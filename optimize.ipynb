{
 "cells": [
  {
   "cell_type": "code",
   "execution_count": 2,
   "metadata": {
    "ExecuteTime": {
     "end_time": "2024-04-13T12:03:51.921582Z",
     "start_time": "2024-04-13T12:03:51.907584Z"
    }
   },
   "outputs": [],
   "source": [
    "import pandas as pd\n",
    "import numpy as np\n",
    "from tqdm import tqdm"
   ]
  },
  {
   "cell_type": "code",
   "execution_count": 3,
   "metadata": {
    "ExecuteTime": {
     "end_time": "2024-04-13T12:03:51.926980Z",
     "start_time": "2024-04-13T12:03:51.922583Z"
    }
   },
   "outputs": [],
   "source": [
    "seed = 739"
   ]
  },
  {
   "cell_type": "markdown",
   "metadata": {},
   "source": [
    "# Обработка данных"
   ]
  },
  {
   "cell_type": "markdown",
   "metadata": {},
   "source": [
    "## Загрузка данных"
   ]
  },
  {
   "cell_type": "code",
   "execution_count": 4,
   "metadata": {
    "ExecuteTime": {
     "end_time": "2024-04-13T12:04:11.007483Z",
     "start_time": "2024-04-13T12:03:51.929969Z"
    }
   },
   "outputs": [],
   "source": [
    "train_df = pd.read_csv('data/train.csv', delimiter=',')\n",
    "# cntrbtrs = pd.read_csv('data/cntrbtrs.csv', delimiter=';')\n",
    "# trnsctns = pd.read_csv('data/trnsctns.csv', delimiter=';')"
   ]
  },
  {
   "cell_type": "markdown",
   "metadata": {},
   "source": [
    "Берем данные только с 2003 года"
   ]
  },
  {
   "cell_type": "code",
   "execution_count": 5,
   "metadata": {
    "ExecuteTime": {
     "end_time": "2024-04-13T12:04:12.538468Z",
     "start_time": "2024-04-13T12:04:11.645716Z"
    }
   },
   "outputs": [],
   "source": [
    "train_df = train_df.loc[train_df['year'] >= 2003]"
   ]
  },
  {
   "cell_type": "markdown",
   "metadata": {
    "collapsed": false
   },
   "source": [
    "## Добавление новых столбцов"
   ]
  },
  {
   "cell_type": "code",
   "execution_count": 6,
   "metadata": {
    "ExecuteTime": {
     "end_time": "2024-04-13T12:04:12.636234Z",
     "start_time": "2024-04-13T12:04:12.594678Z"
    },
    "collapsed": false
   },
   "outputs": [],
   "source": [
    "currency_df = pd.read_csv('external_data/currency.csv')\n",
    "GDP_df = pd.read_csv('external_data/GDP.csv')\n",
    "inflation_df = pd.read_csv('external_data/inflation.csv')\n",
    "unemployment_df = pd.read_csv('external_data/Unemployment.csv')"
   ]
  },
  {
   "cell_type": "code",
   "execution_count": 7,
   "metadata": {
    "ExecuteTime": {
     "end_time": "2024-04-13T12:05:34.034982Z",
     "start_time": "2024-04-13T12:04:12.649581Z"
    },
    "collapsed": false
   },
   "outputs": [
    {
     "name": "stderr",
     "output_type": "stream",
     "text": [
      "84it [01:06,  1.27it/s]\n"
     ]
    },
    {
     "data": {
      "text/html": [
       "<div>\n",
       "<style scoped>\n",
       "    .dataframe tbody tr th:only-of-type {\n",
       "        vertical-align: middle;\n",
       "    }\n",
       "\n",
       "    .dataframe tbody tr th {\n",
       "        vertical-align: top;\n",
       "    }\n",
       "\n",
       "    .dataframe thead th {\n",
       "        text-align: right;\n",
       "    }\n",
       "</style>\n",
       "<table border=\"1\" class=\"dataframe\">\n",
       "  <thead>\n",
       "    <tr style=\"text-align: right;\">\n",
       "      <th></th>\n",
       "      <th>slctn_nmbr</th>\n",
       "      <th>client_id</th>\n",
       "      <th>npo_account_id</th>\n",
       "      <th>npo_accnts_nmbr</th>\n",
       "      <th>pmnts_type</th>\n",
       "      <th>year</th>\n",
       "      <th>quarter</th>\n",
       "      <th>gender</th>\n",
       "      <th>age</th>\n",
       "      <th>clnt_cprtn_time_d</th>\n",
       "      <th>...</th>\n",
       "      <th>region</th>\n",
       "      <th>citizen</th>\n",
       "      <th>fact_addrss</th>\n",
       "      <th>appl_mrkr</th>\n",
       "      <th>evry_qrtr_pmnt</th>\n",
       "      <th>churn</th>\n",
       "      <th>currency</th>\n",
       "      <th>GDP</th>\n",
       "      <th>inflation</th>\n",
       "      <th>unemployment</th>\n",
       "    </tr>\n",
       "  </thead>\n",
       "  <tbody>\n",
       "    <tr>\n",
       "      <th>0</th>\n",
       "      <td>1</td>\n",
       "      <td>0xA095932790098744A2325A8D152C05C7</td>\n",
       "      <td>0xD4DBBAC6561929409BA45725A220613E</td>\n",
       "      <td>1</td>\n",
       "      <td>2</td>\n",
       "      <td>2017</td>\n",
       "      <td>2017Q4</td>\n",
       "      <td>1</td>\n",
       "      <td>48</td>\n",
       "      <td>8091</td>\n",
       "      <td>...</td>\n",
       "      <td>САМАРСКАЯ ОБЛ</td>\n",
       "      <td>-1</td>\n",
       "      <td>-1</td>\n",
       "      <td>0</td>\n",
       "      <td>0</td>\n",
       "      <td>0</td>\n",
       "      <td>58.402211</td>\n",
       "      <td>25621.2</td>\n",
       "      <td>2.583333</td>\n",
       "      <td>5.07</td>\n",
       "    </tr>\n",
       "    <tr>\n",
       "      <th>1</th>\n",
       "      <td>0</td>\n",
       "      <td>0xF75BAA20A603A2479005DEB80464336E</td>\n",
       "      <td>0x3DCFF11974B3D8458CE3569DE9E855D5</td>\n",
       "      <td>2</td>\n",
       "      <td>2</td>\n",
       "      <td>2009</td>\n",
       "      <td>2009Q1</td>\n",
       "      <td>1</td>\n",
       "      <td>35</td>\n",
       "      <td>3303</td>\n",
       "      <td>...</td>\n",
       "      <td>ЛИПЕЦКАЯ ОБЛ</td>\n",
       "      <td>-1</td>\n",
       "      <td>1</td>\n",
       "      <td>0</td>\n",
       "      <td>1</td>\n",
       "      <td>0</td>\n",
       "      <td>34.392777</td>\n",
       "      <td>8334.6</td>\n",
       "      <td>13.726667</td>\n",
       "      <td>8.87</td>\n",
       "    </tr>\n",
       "    <tr>\n",
       "      <th>2</th>\n",
       "      <td>2</td>\n",
       "      <td>0x0D18081E0556AF4F95A931FBA4159D52</td>\n",
       "      <td>0x9DADF88CB3407C4E89403315F640393E</td>\n",
       "      <td>1</td>\n",
       "      <td>1</td>\n",
       "      <td>2010</td>\n",
       "      <td>2010Q1</td>\n",
       "      <td>1</td>\n",
       "      <td>47</td>\n",
       "      <td>1163</td>\n",
       "      <td>...</td>\n",
       "      <td>ОРЛОВСКАЯ ОБЛ</td>\n",
       "      <td>1</td>\n",
       "      <td>1</td>\n",
       "      <td>0</td>\n",
       "      <td>1</td>\n",
       "      <td>0</td>\n",
       "      <td>29.842293</td>\n",
       "      <td>9995.8</td>\n",
       "      <td>7.220000</td>\n",
       "      <td>8.67</td>\n",
       "    </tr>\n",
       "    <tr>\n",
       "      <th>3</th>\n",
       "      <td>0</td>\n",
       "      <td>0x0AD72BC5475D9A4D83E12350A84F839D</td>\n",
       "      <td>0xF59C4E62F115684899EAE9B5D5ECF70F</td>\n",
       "      <td>1</td>\n",
       "      <td>1</td>\n",
       "      <td>2005</td>\n",
       "      <td>2005Q4</td>\n",
       "      <td>-1</td>\n",
       "      <td>42</td>\n",
       "      <td>47</td>\n",
       "      <td>...</td>\n",
       "      <td>СВЕРДЛОВСКАЯ ОБЛ</td>\n",
       "      <td>1</td>\n",
       "      <td>1</td>\n",
       "      <td>0</td>\n",
       "      <td>1</td>\n",
       "      <td>0</td>\n",
       "      <td>28.713011</td>\n",
       "      <td>6228.1</td>\n",
       "      <td>11.286667</td>\n",
       "      <td>7.00</td>\n",
       "    </tr>\n",
       "    <tr>\n",
       "      <th>4</th>\n",
       "      <td>0</td>\n",
       "      <td>0x73DF06339CC25840838408BAD52BE223</td>\n",
       "      <td>0x35BFFA05321C014B9FC29A189E89EDF0</td>\n",
       "      <td>2</td>\n",
       "      <td>2</td>\n",
       "      <td>2007</td>\n",
       "      <td>2007Q4</td>\n",
       "      <td>1</td>\n",
       "      <td>42</td>\n",
       "      <td>876</td>\n",
       "      <td>...</td>\n",
       "      <td>ЛИПЕЦКАЯ ОБЛ</td>\n",
       "      <td>1</td>\n",
       "      <td>1</td>\n",
       "      <td>0</td>\n",
       "      <td>1</td>\n",
       "      <td>0</td>\n",
       "      <td>24.648172</td>\n",
       "      <td>9797.0</td>\n",
       "      <td>11.396667</td>\n",
       "      <td>5.80</td>\n",
       "    </tr>\n",
       "  </tbody>\n",
       "</table>\n",
       "<p>5 rows × 46 columns</p>\n",
       "</div>"
      ],
      "text/plain": [
       "   slctn_nmbr                           client_id  \\\n",
       "0           1  0xA095932790098744A2325A8D152C05C7   \n",
       "1           0  0xF75BAA20A603A2479005DEB80464336E   \n",
       "2           2  0x0D18081E0556AF4F95A931FBA4159D52   \n",
       "3           0  0x0AD72BC5475D9A4D83E12350A84F839D   \n",
       "4           0  0x73DF06339CC25840838408BAD52BE223   \n",
       "\n",
       "                       npo_account_id  npo_accnts_nmbr  pmnts_type  year  \\\n",
       "0  0xD4DBBAC6561929409BA45725A220613E                1           2  2017   \n",
       "1  0x3DCFF11974B3D8458CE3569DE9E855D5                2           2  2009   \n",
       "2  0x9DADF88CB3407C4E89403315F640393E                1           1  2010   \n",
       "3  0xF59C4E62F115684899EAE9B5D5ECF70F                1           1  2005   \n",
       "4  0x35BFFA05321C014B9FC29A189E89EDF0                2           2  2007   \n",
       "\n",
       "  quarter  gender  age  clnt_cprtn_time_d  ...            region  citizen  \\\n",
       "0  2017Q4       1   48               8091  ...     САМАРСКАЯ ОБЛ       -1   \n",
       "1  2009Q1       1   35               3303  ...      ЛИПЕЦКАЯ ОБЛ       -1   \n",
       "2  2010Q1       1   47               1163  ...     ОРЛОВСКАЯ ОБЛ        1   \n",
       "3  2005Q4      -1   42                 47  ...  СВЕРДЛОВСКАЯ ОБЛ        1   \n",
       "4  2007Q4       1   42                876  ...      ЛИПЕЦКАЯ ОБЛ        1   \n",
       "\n",
       "   fact_addrss  appl_mrkr  evry_qrtr_pmnt churn   currency      GDP  \\\n",
       "0           -1          0               0     0  58.402211  25621.2   \n",
       "1            1          0               1     0  34.392777   8334.6   \n",
       "2            1          0               1     0  29.842293   9995.8   \n",
       "3            1          0               1     0  28.713011   6228.1   \n",
       "4            1          0               1     0  24.648172   9797.0   \n",
       "\n",
       "   inflation  unemployment  \n",
       "0   2.583333          5.07  \n",
       "1  13.726667          8.87  \n",
       "2   7.220000          8.67  \n",
       "3  11.286667          7.00  \n",
       "4  11.396667          5.80  \n",
       "\n",
       "[5 rows x 46 columns]"
      ]
     },
     "execution_count": 7,
     "metadata": {},
     "output_type": "execute_result"
    }
   ],
   "source": [
    "for i, quarter in tqdm(enumerate(currency_df.loc[:, 'quarter'])):\n",
    "    train_df.loc[train_df['quarter'] == quarter, 'currency'] = currency_df.iloc[i, 1]\n",
    "    train_df.loc[train_df['quarter'] == quarter, 'GDP'] = GDP_df.iloc[i, 1]\n",
    "    train_df.loc[train_df['quarter'] == quarter, 'inflation'] = inflation_df.iloc[i, 1]\n",
    "    train_df.loc[train_df['quarter'] == quarter, 'unemployment'] = unemployment_df.iloc[i, 0]\n",
    "train_df.head(5)"
   ]
  },
  {
   "cell_type": "markdown",
   "metadata": {},
   "source": [
    "## Обработка пропущенных данных"
   ]
  },
  {
   "cell_type": "markdown",
   "metadata": {},
   "source": [
    "### Train.csv"
   ]
  },
  {
   "cell_type": "markdown",
   "metadata": {},
   "source": [
    "Пустые столбцы:\n",
    "- frst_pmnt_date\n",
    "- lst_pmnt_date_per_qrtr\n",
    "- postal_code\n",
    "- region"
   ]
  },
  {
   "cell_type": "markdown",
   "metadata": {},
   "source": [
    "Вычислим регионы по почтовым индексам"
   ]
  },
  {
   "cell_type": "code",
   "execution_count": 8,
   "metadata": {
    "ExecuteTime": {
     "end_time": "2024-04-13T12:05:38.428637Z",
     "start_time": "2024-04-13T12:05:34.320938Z"
    }
   },
   "outputs": [],
   "source": [
    "buffer = train_df.loc[train_df['region'].notna() & train_df['postal_code'].notna() & train_df['postal_code'] > 0]\n",
    "dict_ = {str(code)[-3:]: region for (region, code) in zip(buffer['region'], buffer['postal_code'])}\n",
    "\n",
    "buffer = train_df.loc[train_df['region'].isna() & train_df['postal_code'].notna()]"
   ]
  },
  {
   "cell_type": "code",
   "execution_count": 9,
   "metadata": {
    "ExecuteTime": {
     "end_time": "2024-04-13T12:05:43.815977Z",
     "start_time": "2024-04-13T12:05:38.429637Z"
    }
   },
   "outputs": [],
   "source": [
    "dict_[\"0\"] = np.NAN\n",
    "list_ = []\n",
    "\n",
    "for i, row in buffer.iterrows():\n",
    "    code = str(row['postal_code'])[-3:]\n",
    "    list_.append(dict_[code])\n",
    "\n",
    "train_df.loc[train_df.loc[:, 'region'].isna() & train_df.loc[:, 'postal_code'].notna(), 'region'] = pd.Series(list_)"
   ]
  },
  {
   "cell_type": "markdown",
   "metadata": {},
   "source": [
    "Проверяем пустые строки"
   ]
  },
  {
   "cell_type": "code",
   "execution_count": 10,
   "metadata": {
    "ExecuteTime": {
     "end_time": "2024-04-13T12:05:47.210463Z",
     "start_time": "2024-04-13T12:05:47.015348Z"
    }
   },
   "outputs": [
    {
     "name": "stderr",
     "output_type": "stream",
     "text": [
      "/var/folders/1n/ncv2knx92312c9fjnfycb5k80000gn/T/ipykernel_68547/736859608.py:1: FutureWarning: A value is trying to be set on a copy of a DataFrame or Series through chained assignment using an inplace method.\n",
      "The behavior will change in pandas 3.0. This inplace method will never work because the intermediate object on which we are setting values always behaves as a copy.\n",
      "\n",
      "For example, when doing 'df[col].method(value, inplace=True)', try using 'df.method({col: value}, inplace=True)' or df[col] = df[col].method(value) instead, to perform the operation inplace on the original object.\n",
      "\n",
      "\n",
      "  train_df['region'].fillna('Неизвестен', inplace=True)\n"
     ]
    }
   ],
   "source": [
    "train_df['region'].fillna('Неизвестен', inplace=True)"
   ]
  },
  {
   "cell_type": "markdown",
   "metadata": {},
   "source": [
    "### Удаляем лишние столбцы\n",
    "- slctn_nmbr\n",
    "- client_id\n",
    "- npo_account_id\n",
    "- year\n",
    "- frst_pmnt_date\n",
    "- lst_pmnt_date_per_qrtr\n",
    "- pmnts_sum_per_year\n",
    "- pmnts_nmbr_per_year\n",
    "- incm_per_year\n",
    "- phone_number\n",
    "- email\n",
    "- postal_code"
   ]
  },
  {
   "cell_type": "code",
   "execution_count": 11,
   "metadata": {
    "ExecuteTime": {
     "end_time": "2024-04-13T12:05:47.589588Z",
     "start_time": "2024-04-13T12:05:47.211460Z"
    }
   },
   "outputs": [],
   "source": [
    "train_df.drop(columns=[\n",
    "    'postal_code',\n",
    "    'slctn_nmbr',\n",
    "    'client_id',\n",
    "    'npo_account_id',\n",
    "    'year',\n",
    "    'frst_pmnt_date',\n",
    "    'lst_pmnt_date_per_qrtr'\n",
    "], inplace=True)"
   ]
  },
  {
   "cell_type": "markdown",
   "metadata": {},
   "source": [
    "## Графики"
   ]
  },
  {
   "cell_type": "code",
   "execution_count": 12,
   "metadata": {
    "ExecuteTime": {
     "end_time": "2024-04-13T12:05:47.607769Z",
     "start_time": "2024-04-13T12:05:47.597764Z"
    }
   },
   "outputs": [],
   "source": [
    "import matplotlib.pyplot as plt\n",
    "import seaborn as sns\n",
    "\n",
    "%matplotlib inline"
   ]
  },
  {
   "cell_type": "markdown",
   "metadata": {},
   "source": [
    "Берем столбцы по типу данных"
   ]
  },
  {
   "cell_type": "code",
   "execution_count": 13,
   "metadata": {
    "ExecuteTime": {
     "end_time": "2024-04-13T12:05:48.396871Z",
     "start_time": "2024-04-13T12:05:47.612766Z"
    }
   },
   "outputs": [
    {
     "data": {
      "text/plain": [
       "['npo_accnts_nmbr',\n",
       " 'pmnts_type',\n",
       " 'gender',\n",
       " 'age',\n",
       " 'clnt_cprtn_time_d',\n",
       " 'actv_prd_d',\n",
       " 'lst_pmnt_rcnc_d',\n",
       " 'pmnts_nmbr',\n",
       " 'pmnts_nmbr_per_qrtr',\n",
       " 'pmnts_nmbr_per_year',\n",
       " 'phone_number',\n",
       " 'email',\n",
       " 'lk',\n",
       " 'assignee_npo',\n",
       " 'assignee_ops',\n",
       " 'citizen',\n",
       " 'fact_addrss',\n",
       " 'appl_mrkr',\n",
       " 'evry_qrtr_pmnt',\n",
       " 'churn']"
      ]
     },
     "metadata": {},
     "output_type": "display_data"
    },
    {
     "data": {
      "text/plain": [
       "['balance',\n",
       " 'oprtn_sum_per_qrtr',\n",
       " 'oprtn_sum_per_year',\n",
       " 'frst_pmnt',\n",
       " 'lst_pmnt',\n",
       " 'pmnts_sum',\n",
       " 'pmnts_sum_per_qrtr',\n",
       " 'pmnts_sum_per_year',\n",
       " 'incm_sum',\n",
       " 'incm_per_qrtr',\n",
       " 'incm_per_year',\n",
       " 'mgd_accum_period',\n",
       " 'mgd_payment_period',\n",
       " 'currency',\n",
       " 'GDP',\n",
       " 'inflation',\n",
       " 'unemployment']"
      ]
     },
     "metadata": {},
     "output_type": "display_data"
    },
    {
     "data": {
      "text/plain": [
       "['quarter', 'region']"
      ]
     },
     "metadata": {},
     "output_type": "display_data"
    }
   ],
   "source": [
    "int_cols = train_df.select_dtypes(int).columns.to_list()\n",
    "float_cols = train_df.select_dtypes(float).columns.to_list()\n",
    "cat_cols = train_df.select_dtypes(object).columns.to_list()\n",
    "display(int_cols, float_cols, cat_cols)"
   ]
  },
  {
   "cell_type": "markdown",
   "metadata": {},
   "source": [
    "Убираем выбросы"
   ]
  },
  {
   "cell_type": "code",
   "execution_count": 14,
   "metadata": {
    "ExecuteTime": {
     "end_time": "2024-04-13T12:05:55.318913Z",
     "start_time": "2024-04-13T12:05:48.397863Z"
    }
   },
   "outputs": [
    {
     "data": {
      "text/plain": [
       "(1008745, 3377386)"
      ]
     },
     "execution_count": 14,
     "metadata": {},
     "output_type": "execute_result"
    }
   ],
   "source": [
    "def selection_data(df: pd.DataFrame, cols: list[str], n=1.5):\n",
    "    for col in cols:\n",
    "        q1 = df[col].quantile(0.25)\n",
    "        q3 = df[col].quantile(0.75)\n",
    "        iqr = q3 - q1\n",
    "        lim_min = q1 - n * iqr\n",
    "        lim_max = q3 + n * iqr\n",
    "        \n",
    "        df = df.loc[(df[col] >= lim_min) & (df[col] <= lim_max)]\n",
    "    return df\n",
    "\n",
    "\n",
    "buffer = train_df.copy()\n",
    "buffer = selection_data(buffer, ['balance', 'oprtn_sum_per_qrtr',\n",
    "                                 'frst_pmnt', 'lst_pmnt',\n",
    "                                 'pmnts_sum', 'pmnts_sum_per_qrtr',\n",
    "                                 'incm_sum', 'incm_per_qrtr',\n",
    "                                 'pmnts_sum_per_year',\n",
    "                                 'oprtn_sum_per_year', 'incm_per_year',\n",
    "                                 'age'])\n",
    "len(buffer), len(train_df)"
   ]
  },
  {
   "cell_type": "markdown",
   "metadata": {},
   "source": [
    "## Преобразование данных"
   ]
  },
  {
   "cell_type": "code",
   "execution_count": 15,
   "metadata": {
    "ExecuteTime": {
     "end_time": "2024-04-13T12:06:57.157633Z",
     "start_time": "2024-04-13T12:06:56.811635Z"
    }
   },
   "outputs": [
    {
     "data": {
      "text/html": [
       "<div>\n",
       "<style scoped>\n",
       "    .dataframe tbody tr th:only-of-type {\n",
       "        vertical-align: middle;\n",
       "    }\n",
       "\n",
       "    .dataframe tbody tr th {\n",
       "        vertical-align: top;\n",
       "    }\n",
       "\n",
       "    .dataframe thead th {\n",
       "        text-align: right;\n",
       "    }\n",
       "</style>\n",
       "<table border=\"1\" class=\"dataframe\">\n",
       "  <thead>\n",
       "    <tr style=\"text-align: right;\">\n",
       "      <th></th>\n",
       "      <th>npo_accnts_nmbr</th>\n",
       "      <th>pmnts_type</th>\n",
       "      <th>quarter</th>\n",
       "      <th>gender</th>\n",
       "      <th>age</th>\n",
       "      <th>clnt_cprtn_time_d</th>\n",
       "      <th>actv_prd_d</th>\n",
       "      <th>lst_pmnt_rcnc_d</th>\n",
       "      <th>balance</th>\n",
       "      <th>oprtn_sum_per_qrtr</th>\n",
       "      <th>...</th>\n",
       "      <th>region</th>\n",
       "      <th>citizen</th>\n",
       "      <th>fact_addrss</th>\n",
       "      <th>appl_mrkr</th>\n",
       "      <th>evry_qrtr_pmnt</th>\n",
       "      <th>currency</th>\n",
       "      <th>GDP</th>\n",
       "      <th>inflation</th>\n",
       "      <th>unemployment</th>\n",
       "      <th>has_communication</th>\n",
       "    </tr>\n",
       "  </thead>\n",
       "  <tbody>\n",
       "    <tr>\n",
       "      <th>0</th>\n",
       "      <td>1</td>\n",
       "      <td>2</td>\n",
       "      <td>2017Q4</td>\n",
       "      <td>1</td>\n",
       "      <td>48</td>\n",
       "      <td>8091</td>\n",
       "      <td>0</td>\n",
       "      <td>6757</td>\n",
       "      <td>679.37</td>\n",
       "      <td>31.34</td>\n",
       "      <td>...</td>\n",
       "      <td>САМАРСКАЯ ОБЛ</td>\n",
       "      <td>-1</td>\n",
       "      <td>-1</td>\n",
       "      <td>0</td>\n",
       "      <td>0</td>\n",
       "      <td>58.402211</td>\n",
       "      <td>25621.2</td>\n",
       "      <td>2.583333</td>\n",
       "      <td>5.07</td>\n",
       "      <td>False</td>\n",
       "    </tr>\n",
       "    <tr>\n",
       "      <th>2</th>\n",
       "      <td>1</td>\n",
       "      <td>1</td>\n",
       "      <td>2010Q1</td>\n",
       "      <td>1</td>\n",
       "      <td>47</td>\n",
       "      <td>1163</td>\n",
       "      <td>1121</td>\n",
       "      <td>34</td>\n",
       "      <td>5569.85</td>\n",
       "      <td>463.41</td>\n",
       "      <td>...</td>\n",
       "      <td>ОРЛОВСКАЯ ОБЛ</td>\n",
       "      <td>1</td>\n",
       "      <td>1</td>\n",
       "      <td>0</td>\n",
       "      <td>1</td>\n",
       "      <td>29.842293</td>\n",
       "      <td>9995.8</td>\n",
       "      <td>7.220000</td>\n",
       "      <td>8.67</td>\n",
       "      <td>False</td>\n",
       "    </tr>\n",
       "    <tr>\n",
       "      <th>3</th>\n",
       "      <td>1</td>\n",
       "      <td>1</td>\n",
       "      <td>2005Q4</td>\n",
       "      <td>0</td>\n",
       "      <td>42</td>\n",
       "      <td>47</td>\n",
       "      <td>0</td>\n",
       "      <td>0</td>\n",
       "      <td>81.37</td>\n",
       "      <td>81.37</td>\n",
       "      <td>...</td>\n",
       "      <td>СВЕРДЛОВСКАЯ ОБЛ</td>\n",
       "      <td>1</td>\n",
       "      <td>1</td>\n",
       "      <td>0</td>\n",
       "      <td>1</td>\n",
       "      <td>28.713011</td>\n",
       "      <td>6228.1</td>\n",
       "      <td>11.286667</td>\n",
       "      <td>7.00</td>\n",
       "      <td>False</td>\n",
       "    </tr>\n",
       "    <tr>\n",
       "      <th>4</th>\n",
       "      <td>2</td>\n",
       "      <td>2</td>\n",
       "      <td>2007Q4</td>\n",
       "      <td>1</td>\n",
       "      <td>42</td>\n",
       "      <td>876</td>\n",
       "      <td>853</td>\n",
       "      <td>30</td>\n",
       "      <td>6937.65</td>\n",
       "      <td>794.36</td>\n",
       "      <td>...</td>\n",
       "      <td>ЛИПЕЦКАЯ ОБЛ</td>\n",
       "      <td>1</td>\n",
       "      <td>1</td>\n",
       "      <td>0</td>\n",
       "      <td>1</td>\n",
       "      <td>24.648172</td>\n",
       "      <td>9797.0</td>\n",
       "      <td>11.396667</td>\n",
       "      <td>5.80</td>\n",
       "      <td>False</td>\n",
       "    </tr>\n",
       "    <tr>\n",
       "      <th>9</th>\n",
       "      <td>2</td>\n",
       "      <td>1</td>\n",
       "      <td>2007Q3</td>\n",
       "      <td>0</td>\n",
       "      <td>25</td>\n",
       "      <td>175</td>\n",
       "      <td>153</td>\n",
       "      <td>28</td>\n",
       "      <td>1017.85</td>\n",
       "      <td>343.96</td>\n",
       "      <td>...</td>\n",
       "      <td>ЛИПЕЦКАЯ ОБЛ</td>\n",
       "      <td>1</td>\n",
       "      <td>1</td>\n",
       "      <td>0</td>\n",
       "      <td>1</td>\n",
       "      <td>25.503326</td>\n",
       "      <td>8902.7</td>\n",
       "      <td>8.880000</td>\n",
       "      <td>5.53</td>\n",
       "      <td>False</td>\n",
       "    </tr>\n",
       "  </tbody>\n",
       "</table>\n",
       "<p>5 rows × 37 columns</p>\n",
       "</div>"
      ],
      "text/plain": [
       "   npo_accnts_nmbr  pmnts_type quarter  gender  age  clnt_cprtn_time_d  \\\n",
       "0                1           2  2017Q4       1   48               8091   \n",
       "2                1           1  2010Q1       1   47               1163   \n",
       "3                1           1  2005Q4       0   42                 47   \n",
       "4                2           2  2007Q4       1   42                876   \n",
       "9                2           1  2007Q3       0   25                175   \n",
       "\n",
       "   actv_prd_d  lst_pmnt_rcnc_d  balance  oprtn_sum_per_qrtr  ...  \\\n",
       "0           0             6757   679.37               31.34  ...   \n",
       "2        1121               34  5569.85              463.41  ...   \n",
       "3           0                0    81.37               81.37  ...   \n",
       "4         853               30  6937.65              794.36  ...   \n",
       "9         153               28  1017.85              343.96  ...   \n",
       "\n",
       "             region  citizen  fact_addrss  appl_mrkr  evry_qrtr_pmnt  \\\n",
       "0     САМАРСКАЯ ОБЛ       -1           -1          0               0   \n",
       "2     ОРЛОВСКАЯ ОБЛ        1            1          0               1   \n",
       "3  СВЕРДЛОВСКАЯ ОБЛ        1            1          0               1   \n",
       "4      ЛИПЕЦКАЯ ОБЛ        1            1          0               1   \n",
       "9      ЛИПЕЦКАЯ ОБЛ        1            1          0               1   \n",
       "\n",
       "    currency      GDP  inflation  unemployment  has_communication  \n",
       "0  58.402211  25621.2   2.583333          5.07              False  \n",
       "2  29.842293   9995.8   7.220000          8.67              False  \n",
       "3  28.713011   6228.1  11.286667          7.00              False  \n",
       "4  24.648172   9797.0  11.396667          5.80              False  \n",
       "9  25.503326   8902.7   8.880000          5.53              False  \n",
       "\n",
       "[5 rows x 37 columns]"
      ]
     },
     "execution_count": 15,
     "metadata": {},
     "output_type": "execute_result"
    }
   ],
   "source": [
    "from sklearn.base import BaseEstimator, TransformerMixin\n",
    "\n",
    "class IntegerFeaturesTransformer(BaseEstimator, TransformerMixin):\n",
    "    dataframe: pd.DataFrame | None = None\n",
    "    \n",
    "    def fit(self, df: pd.DataFrame, y: None = None) -> BaseEstimator:\n",
    "        self.dataframe = df\n",
    "        # self.dataframe['actv_prd_d'] = (self.dataframe['actv_prd_d'] - self.dataframe['actv_prd_d'].mean()) / self.dataframe['actv_prd_d'].std()\n",
    "        # self.dataframe['lst_pmnt_rcnc_d'] = (self.dataframe['lst_pmnt_rcnc_d'] - self.dataframe['lst_pmnt_rcnc_d'].mean()) / self.dataframe['lst_pmnt_rcnc_d'].std()\n",
    "        self.dataframe['gender'] = self.dataframe['gender'].replace([1, -1], [1, 0])\n",
    "        self.dataframe['has_communication'] = (self.dataframe['email'] == 1) | (self.dataframe['phone_number'] == 1)\n",
    "        self.dataframe.drop(columns=['email', 'phone_number', 'churn'], inplace=True)\n",
    "        \n",
    "        return self\n",
    "    \n",
    "    def transform(self, X: None = None) -> pd.DataFrame:\n",
    "        return self.dataframe\n",
    "    \n",
    "\n",
    "trans = IntegerFeaturesTransformer()\n",
    "trans.fit(buffer.copy())\n",
    "trans.transform(buffer).head(5)"
   ]
  },
  {
   "cell_type": "code",
   "execution_count": 16,
   "metadata": {
    "ExecuteTime": {
     "end_time": "2024-04-13T12:37:35.165543Z",
     "start_time": "2024-04-13T12:37:32.423467Z"
    }
   },
   "outputs": [
    {
     "data": {
      "text/html": [
       "<div>\n",
       "<style scoped>\n",
       "    .dataframe tbody tr th:only-of-type {\n",
       "        vertical-align: middle;\n",
       "    }\n",
       "\n",
       "    .dataframe tbody tr th {\n",
       "        vertical-align: top;\n",
       "    }\n",
       "\n",
       "    .dataframe thead th {\n",
       "        text-align: right;\n",
       "    }\n",
       "</style>\n",
       "<table border=\"1\" class=\"dataframe\">\n",
       "  <thead>\n",
       "    <tr style=\"text-align: right;\">\n",
       "      <th></th>\n",
       "      <th>npo_accnts_nmbr</th>\n",
       "      <th>pmnts_type</th>\n",
       "      <th>quarter</th>\n",
       "      <th>gender</th>\n",
       "      <th>age</th>\n",
       "      <th>clnt_cprtn_time_d</th>\n",
       "      <th>actv_prd_d</th>\n",
       "      <th>lst_pmnt_rcnc_d</th>\n",
       "      <th>balance</th>\n",
       "      <th>oprtn_sum_per_qrtr</th>\n",
       "      <th>...</th>\n",
       "      <th>region</th>\n",
       "      <th>citizen</th>\n",
       "      <th>fact_addrss</th>\n",
       "      <th>appl_mrkr</th>\n",
       "      <th>evry_qrtr_pmnt</th>\n",
       "      <th>churn</th>\n",
       "      <th>currency</th>\n",
       "      <th>GDP</th>\n",
       "      <th>inflation</th>\n",
       "      <th>unemployment</th>\n",
       "    </tr>\n",
       "  </thead>\n",
       "  <tbody>\n",
       "    <tr>\n",
       "      <th>0</th>\n",
       "      <td>1</td>\n",
       "      <td>2</td>\n",
       "      <td>4</td>\n",
       "      <td>1</td>\n",
       "      <td>48</td>\n",
       "      <td>8091</td>\n",
       "      <td>0</td>\n",
       "      <td>6757</td>\n",
       "      <td>679.37</td>\n",
       "      <td>31.34</td>\n",
       "      <td>...</td>\n",
       "      <td>176</td>\n",
       "      <td>-1</td>\n",
       "      <td>-1</td>\n",
       "      <td>0</td>\n",
       "      <td>0</td>\n",
       "      <td>0</td>\n",
       "      <td>58.402211</td>\n",
       "      <td>25621.2</td>\n",
       "      <td>2.583333</td>\n",
       "      <td>5.07</td>\n",
       "    </tr>\n",
       "    <tr>\n",
       "      <th>2</th>\n",
       "      <td>1</td>\n",
       "      <td>1</td>\n",
       "      <td>1</td>\n",
       "      <td>1</td>\n",
       "      <td>47</td>\n",
       "      <td>1163</td>\n",
       "      <td>1121</td>\n",
       "      <td>34</td>\n",
       "      <td>5569.85</td>\n",
       "      <td>463.41</td>\n",
       "      <td>...</td>\n",
       "      <td>154</td>\n",
       "      <td>1</td>\n",
       "      <td>1</td>\n",
       "      <td>0</td>\n",
       "      <td>1</td>\n",
       "      <td>0</td>\n",
       "      <td>29.842293</td>\n",
       "      <td>9995.8</td>\n",
       "      <td>7.220000</td>\n",
       "      <td>8.67</td>\n",
       "    </tr>\n",
       "    <tr>\n",
       "      <th>3</th>\n",
       "      <td>1</td>\n",
       "      <td>1</td>\n",
       "      <td>4</td>\n",
       "      <td>-1</td>\n",
       "      <td>42</td>\n",
       "      <td>47</td>\n",
       "      <td>0</td>\n",
       "      <td>0</td>\n",
       "      <td>81.37</td>\n",
       "      <td>81.37</td>\n",
       "      <td>...</td>\n",
       "      <td>186</td>\n",
       "      <td>1</td>\n",
       "      <td>1</td>\n",
       "      <td>0</td>\n",
       "      <td>1</td>\n",
       "      <td>0</td>\n",
       "      <td>28.713011</td>\n",
       "      <td>6228.1</td>\n",
       "      <td>11.286667</td>\n",
       "      <td>7.00</td>\n",
       "    </tr>\n",
       "    <tr>\n",
       "      <th>4</th>\n",
       "      <td>2</td>\n",
       "      <td>2</td>\n",
       "      <td>4</td>\n",
       "      <td>1</td>\n",
       "      <td>42</td>\n",
       "      <td>876</td>\n",
       "      <td>853</td>\n",
       "      <td>30</td>\n",
       "      <td>6937.65</td>\n",
       "      <td>794.36</td>\n",
       "      <td>...</td>\n",
       "      <td>122</td>\n",
       "      <td>1</td>\n",
       "      <td>1</td>\n",
       "      <td>0</td>\n",
       "      <td>1</td>\n",
       "      <td>0</td>\n",
       "      <td>24.648172</td>\n",
       "      <td>9797.0</td>\n",
       "      <td>11.396667</td>\n",
       "      <td>5.80</td>\n",
       "    </tr>\n",
       "    <tr>\n",
       "      <th>9</th>\n",
       "      <td>2</td>\n",
       "      <td>1</td>\n",
       "      <td>3</td>\n",
       "      <td>-1</td>\n",
       "      <td>25</td>\n",
       "      <td>175</td>\n",
       "      <td>153</td>\n",
       "      <td>28</td>\n",
       "      <td>1017.85</td>\n",
       "      <td>343.96</td>\n",
       "      <td>...</td>\n",
       "      <td>122</td>\n",
       "      <td>1</td>\n",
       "      <td>1</td>\n",
       "      <td>0</td>\n",
       "      <td>1</td>\n",
       "      <td>0</td>\n",
       "      <td>25.503326</td>\n",
       "      <td>8902.7</td>\n",
       "      <td>8.880000</td>\n",
       "      <td>5.53</td>\n",
       "    </tr>\n",
       "    <tr>\n",
       "      <th>...</th>\n",
       "      <td>...</td>\n",
       "      <td>...</td>\n",
       "      <td>...</td>\n",
       "      <td>...</td>\n",
       "      <td>...</td>\n",
       "      <td>...</td>\n",
       "      <td>...</td>\n",
       "      <td>...</td>\n",
       "      <td>...</td>\n",
       "      <td>...</td>\n",
       "      <td>...</td>\n",
       "      <td>...</td>\n",
       "      <td>...</td>\n",
       "      <td>...</td>\n",
       "      <td>...</td>\n",
       "      <td>...</td>\n",
       "      <td>...</td>\n",
       "      <td>...</td>\n",
       "      <td>...</td>\n",
       "      <td>...</td>\n",
       "      <td>...</td>\n",
       "    </tr>\n",
       "    <tr>\n",
       "      <th>3589885</th>\n",
       "      <td>1</td>\n",
       "      <td>3</td>\n",
       "      <td>4</td>\n",
       "      <td>-1</td>\n",
       "      <td>52</td>\n",
       "      <td>857</td>\n",
       "      <td>0</td>\n",
       "      <td>855</td>\n",
       "      <td>910.85</td>\n",
       "      <td>47.33</td>\n",
       "      <td>...</td>\n",
       "      <td>182</td>\n",
       "      <td>1</td>\n",
       "      <td>1</td>\n",
       "      <td>0</td>\n",
       "      <td>0</td>\n",
       "      <td>0</td>\n",
       "      <td>72.654305</td>\n",
       "      <td>40111.5</td>\n",
       "      <td>8.310000</td>\n",
       "      <td>4.30</td>\n",
       "    </tr>\n",
       "    <tr>\n",
       "      <th>3589889</th>\n",
       "      <td>1</td>\n",
       "      <td>3</td>\n",
       "      <td>3</td>\n",
       "      <td>1</td>\n",
       "      <td>38</td>\n",
       "      <td>2638</td>\n",
       "      <td>2614</td>\n",
       "      <td>28</td>\n",
       "      <td>30285.05</td>\n",
       "      <td>975.61</td>\n",
       "      <td>...</td>\n",
       "      <td>38</td>\n",
       "      <td>-1</td>\n",
       "      <td>1</td>\n",
       "      <td>0</td>\n",
       "      <td>1</td>\n",
       "      <td>0</td>\n",
       "      <td>65.551482</td>\n",
       "      <td>27196.8</td>\n",
       "      <td>2.986667</td>\n",
       "      <td>4.60</td>\n",
       "    </tr>\n",
       "    <tr>\n",
       "      <th>3589906</th>\n",
       "      <td>2</td>\n",
       "      <td>2</td>\n",
       "      <td>2</td>\n",
       "      <td>1</td>\n",
       "      <td>27</td>\n",
       "      <td>198</td>\n",
       "      <td>183</td>\n",
       "      <td>30</td>\n",
       "      <td>552.28</td>\n",
       "      <td>236.59</td>\n",
       "      <td>...</td>\n",
       "      <td>237</td>\n",
       "      <td>-1</td>\n",
       "      <td>-1</td>\n",
       "      <td>0</td>\n",
       "      <td>0</td>\n",
       "      <td>0</td>\n",
       "      <td>28.005323</td>\n",
       "      <td>14434.8</td>\n",
       "      <td>9.540000</td>\n",
       "      <td>6.43</td>\n",
       "    </tr>\n",
       "    <tr>\n",
       "      <th>3589910</th>\n",
       "      <td>1</td>\n",
       "      <td>2</td>\n",
       "      <td>4</td>\n",
       "      <td>1</td>\n",
       "      <td>31</td>\n",
       "      <td>1616</td>\n",
       "      <td>0</td>\n",
       "      <td>731</td>\n",
       "      <td>3080.98</td>\n",
       "      <td>118.50</td>\n",
       "      <td>...</td>\n",
       "      <td>38</td>\n",
       "      <td>1</td>\n",
       "      <td>1</td>\n",
       "      <td>0</td>\n",
       "      <td>0</td>\n",
       "      <td>0</td>\n",
       "      <td>24.648172</td>\n",
       "      <td>9797.0</td>\n",
       "      <td>11.396667</td>\n",
       "      <td>5.80</td>\n",
       "    </tr>\n",
       "    <tr>\n",
       "      <th>3589917</th>\n",
       "      <td>1</td>\n",
       "      <td>2</td>\n",
       "      <td>1</td>\n",
       "      <td>-1</td>\n",
       "      <td>16</td>\n",
       "      <td>4607</td>\n",
       "      <td>0</td>\n",
       "      <td>4607</td>\n",
       "      <td>225.11</td>\n",
       "      <td>13.93</td>\n",
       "      <td>...</td>\n",
       "      <td>197</td>\n",
       "      <td>-1</td>\n",
       "      <td>-1</td>\n",
       "      <td>0</td>\n",
       "      <td>0</td>\n",
       "      <td>0</td>\n",
       "      <td>29.842293</td>\n",
       "      <td>9995.8</td>\n",
       "      <td>7.220000</td>\n",
       "      <td>8.67</td>\n",
       "    </tr>\n",
       "  </tbody>\n",
       "</table>\n",
       "<p>1008745 rows × 39 columns</p>\n",
       "</div>"
      ],
      "text/plain": [
       "         npo_accnts_nmbr  pmnts_type quarter  gender  age  clnt_cprtn_time_d  \\\n",
       "0                      1           2       4       1   48               8091   \n",
       "2                      1           1       1       1   47               1163   \n",
       "3                      1           1       4      -1   42                 47   \n",
       "4                      2           2       4       1   42                876   \n",
       "9                      2           1       3      -1   25                175   \n",
       "...                  ...         ...     ...     ...  ...                ...   \n",
       "3589885                1           3       4      -1   52                857   \n",
       "3589889                1           3       3       1   38               2638   \n",
       "3589906                2           2       2       1   27                198   \n",
       "3589910                1           2       4       1   31               1616   \n",
       "3589917                1           2       1      -1   16               4607   \n",
       "\n",
       "         actv_prd_d  lst_pmnt_rcnc_d   balance  oprtn_sum_per_qrtr  ...  \\\n",
       "0                 0             6757    679.37               31.34  ...   \n",
       "2              1121               34   5569.85              463.41  ...   \n",
       "3                 0                0     81.37               81.37  ...   \n",
       "4               853               30   6937.65              794.36  ...   \n",
       "9               153               28   1017.85              343.96  ...   \n",
       "...             ...              ...       ...                 ...  ...   \n",
       "3589885           0              855    910.85               47.33  ...   \n",
       "3589889        2614               28  30285.05              975.61  ...   \n",
       "3589906         183               30    552.28              236.59  ...   \n",
       "3589910           0              731   3080.98              118.50  ...   \n",
       "3589917           0             4607    225.11               13.93  ...   \n",
       "\n",
       "         region  citizen  fact_addrss  appl_mrkr  evry_qrtr_pmnt  churn  \\\n",
       "0           176       -1           -1          0               0      0   \n",
       "2           154        1            1          0               1      0   \n",
       "3           186        1            1          0               1      0   \n",
       "4           122        1            1          0               1      0   \n",
       "9           122        1            1          0               1      0   \n",
       "...         ...      ...          ...        ...             ...    ...   \n",
       "3589885     182        1            1          0               0      0   \n",
       "3589889      38       -1            1          0               1      0   \n",
       "3589906     237       -1           -1          0               0      0   \n",
       "3589910      38        1            1          0               0      0   \n",
       "3589917     197       -1           -1          0               0      0   \n",
       "\n",
       "          currency      GDP  inflation  unemployment  \n",
       "0        58.402211  25621.2   2.583333          5.07  \n",
       "2        29.842293   9995.8   7.220000          8.67  \n",
       "3        28.713011   6228.1  11.286667          7.00  \n",
       "4        24.648172   9797.0  11.396667          5.80  \n",
       "9        25.503326   8902.7   8.880000          5.53  \n",
       "...            ...      ...        ...           ...  \n",
       "3589885  72.654305  40111.5   8.310000          4.30  \n",
       "3589889  65.551482  27196.8   2.986667          4.60  \n",
       "3589906  28.005323  14434.8   9.540000          6.43  \n",
       "3589910  24.648172   9797.0  11.396667          5.80  \n",
       "3589917  29.842293   9995.8   7.220000          8.67  \n",
       "\n",
       "[1008745 rows x 39 columns]"
      ]
     },
     "execution_count": 16,
     "metadata": {},
     "output_type": "execute_result"
    }
   ],
   "source": [
    "from sklearn.preprocessing import LabelEncoder\n",
    "\n",
    "\n",
    "class CatFeaturesTransformer(BaseEstimator, TransformerMixin):\n",
    "    dataframe: pd.DataFrame | None = None\n",
    "    \n",
    "    def fit(self, X: pd.DataFrame) -> BaseEstimator:\n",
    "        self.dataframe = X\n",
    "        self.dataframe['quarter'] = self.dataframe['quarter'].replace(r'\\d{4}Q', '', regex=True)\n",
    "        scaler1 = LabelEncoder().fit(self.dataframe['region'])\n",
    "        self.dataframe['region'] = scaler1.transform(self.dataframe['region'])\n",
    "        return self\n",
    "    \n",
    "    def transform(self, X: None = None) -> np.ndarray:\n",
    "        return self.dataframe\n",
    "\n",
    "\n",
    "trans = CatFeaturesTransformer()\n",
    "trans.fit(buffer.copy())\n",
    "trans.transform(buffer)"
   ]
  },
  {
   "cell_type": "code",
   "execution_count": 17,
   "metadata": {
    "ExecuteTime": {
     "end_time": "2024-04-13T12:37:41.944267Z",
     "start_time": "2024-04-13T12:37:36.880969Z"
    }
   },
   "outputs": [],
   "source": [
    "from sklearn.compose import ColumnTransformer\n",
    "from sklearn.preprocessing import OneHotEncoder\n",
    "\n",
    "\n",
    "offices = [\"МОСКВА Г\", \"САНКТ-ПЕТЕРБУРГ Г\", \"ВОЛОГОДСКАЯ ОБЛ\", \"ОРЛОВСКАЯ ОБЛ\", \"ЛИПЕЦКАЯ ОБЛ\", \"РОСТОВСКАЯ ОБЛ\", \"НИЖЕГОРОДСКАЯ ОБЛ\", \"ПЕРМСКИЙ КРАЙ\", \"ЕКАТЕРИНБУРГ Г\", \"ЧЕЛЯБИНСК Г\", \"НОВОСИБИРСК Г\", \"ИРКУТСКАЯ ОБЛ\"]\n",
    "buffer['has_close_office'] = buffer['region'].copy()\n",
    "buffer['has_close_office'] = buffer['has_close_office'].apply(lambda x: x in offices)\n",
    "\n",
    "transformer = ColumnTransformer(\n",
    "    transformers=(\n",
    "        ('int_trans', IntegerFeaturesTransformer(), int_cols),\n",
    "        ('cat_trans', CatFeaturesTransformer(), cat_cols),\n",
    "        ('float', 'passthrough', float_cols)\n",
    "    )\n",
    ")\n",
    "\n",
    "transformer.fit(buffer.copy())\n",
    "\n",
    "X, y = transformer.transform(buffer).astype(np.float32), buffer['churn'].to_numpy(dtype=np.int16)"
   ]
  },
  {
   "cell_type": "code",
   "execution_count": 18,
   "metadata": {
    "ExecuteTime": {
     "end_time": "2024-04-13T12:37:43.450511Z",
     "start_time": "2024-04-13T12:37:43.444511Z"
    }
   },
   "outputs": [
    {
     "data": {
      "text/plain": [
       "((1008745, 37), (1008745,))"
      ]
     },
     "execution_count": 18,
     "metadata": {},
     "output_type": "execute_result"
    }
   ],
   "source": [
    "X.shape, y.shape"
   ]
  },
  {
   "cell_type": "markdown",
   "metadata": {},
   "source": [
    "# Оптимизация гиперпараметров"
   ]
  },
  {
   "cell_type": "code",
   "execution_count": 23,
   "metadata": {
    "ExecuteTime": {
     "end_time": "2024-04-13T12:38:30.478438Z",
     "start_time": "2024-04-13T12:38:29.953579Z"
    }
   },
   "outputs": [],
   "source": [
    "from lightgbm import LGBMClassifier\n",
    "from catboost import CatBoostClassifier\n",
    "from xgboost import XGBClassifier"
   ]
  },
  {
   "cell_type": "code",
   "execution_count": 19,
   "metadata": {},
   "outputs": [],
   "source": [
    "from functools import partial\n",
    "from sklearn.metrics import f1_score, make_scorer\n",
    "from sklearn.model_selection import cross_val_score\n",
    "\n",
    "\n",
    "scorer = make_scorer(f1_score)\n",
    "validate_objective = partial(cross_val_score, X=X, y=y, cv=5, n_jobs=-1, scoring=scorer)"
   ]
  },
  {
   "cell_type": "code",
   "execution_count": 25,
   "metadata": {},
   "outputs": [],
   "source": [
    "import optuna\n",
    "\n",
    "\n",
    "def cat_objective(trial):\n",
    "    param = {\n",
    "        \"objective\": trial.suggest_categorical(\"objective\", [\"Logloss\", \"CrossEntropy\"]),\n",
    "        \"colsample_bylevel\": trial.suggest_float(\"colsample_bylevel\", 0.01, 0.1),\n",
    "        \"depth\": trial.suggest_int(\"depth\", 1, 12),\n",
    "        \"boosting_type\": trial.suggest_categorical(\"boosting_type\", [\"Ordered\", \"Plain\"]),\n",
    "        \"bootstrap_type\": trial.suggest_categorical(\n",
    "            \"bootstrap_type\", [\"Bayesian\", \"Bernoulli\", \"MVS\"]\n",
    "        )\n",
    "    }\n",
    "    clf = CatBoostClassifier(**param)\n",
    "    \n",
    "    score = validate_objective(clf, fit_params={'verbose': False}).mean()\n",
    "    return score\n",
    "\n",
    "\n",
    "def xgb_objective(trial):\n",
    "    params = {\n",
    "        'booster': trial.suggest_categorical('booster', ['gbtree', 'gblinear', 'dart']),\n",
    "        'lambda': trial.suggest_float('lambda', 1e-8, 1.0, log=True),\n",
    "        'alpha': trial.suggest_float('alpha', 1e-8, 1.0, log=True),\n",
    "        'learning_rate': trial.suggest_float('learning_rate', 1e-4, 5e-1, log=True),\n",
    "        'n_estimators': trial.suggest_int('n_estimators', 10, 500, log=True), \n",
    "        'max_depth': trial.suggest_int('max_depth', 2, 32, log=True),\n",
    "        'eval_metric': f1_score,\n",
    "        'colsample_bytree': trial.suggest_float('colsample_bytree', 1e-8, 1.0, log=True),\n",
    "        'colsample_bylevel': trial.suggest_float('colsample_bytree', 1e-8, 1.0, log=True),\n",
    "        'colsample_bynode': trial.suggest_float('colsample_bytree', 1e-8, 1.0, log=True),\n",
    "        'reg_lambda': trial.suggest_float('reg_lambda', 1e-8, 1.0, log=True),\n",
    "        'reg_alpha': trial.suggest_float('reg_alpha', 1e-8, 1.0, log=True),\n",
    "        'device': 'cuda'\n",
    "    }\n",
    "    regression_obj = XGBClassifier(**params)\n",
    "    \n",
    "    score = validate_objective(regression_obj).mean()\n",
    "    return score\n",
    "\n",
    "\n",
    "objectives = [\n",
    "    ('xgb', xgb_objective),\n",
    "    # ('cat', cat_objective),\n",
    "]"
   ]
  },
  {
   "cell_type": "code",
   "execution_count": 26,
   "metadata": {},
   "outputs": [
    {
     "name": "stderr",
     "output_type": "stream",
     "text": [
      "/var/folders/1n/ncv2knx92312c9fjnfycb5k80000gn/T/ipykernel_68547/1095739599.py:4: ExperimentalWarning: VSBXCrossover is experimental (supported from v3.0.0). The interface can change in the future.\n",
      "  crossover=optuna.samplers.nsgaii.VSBXCrossover()\n",
      "[I 2024-04-13 17:14:00,916] A new study created in memory with name: xgb\n",
      "[W 2024-04-13 17:14:32,885] Trial 0 failed with parameters: {'booster': 'dart', 'lambda': 0.07110199002638765, 'alpha': 8.664981135904565e-05, 'learning_rate': 0.007969322857318991, 'n_estimators': 64, 'max_depth': 5, 'colsample_bytree': 0.048011049892686196, 'reg_lambda': 4.545079375742069e-05, 'reg_alpha': 1.681094061799177e-08} because of the following error: KeyboardInterrupt().\n",
      "Traceback (most recent call last):\n",
      "  File \"/Users/danila/Documents/Python Projects/AI Hackathon 12.04.2024/AI-Hackathon-SFD/.venv/lib/python3.11/site-packages/optuna/study/_optimize.py\", line 196, in _run_trial\n",
      "    value_or_values = func(trial)\n",
      "                      ^^^^^^^^^^^\n",
      "  File \"/var/folders/1n/ncv2knx92312c9fjnfycb5k80000gn/T/ipykernel_68547/3637749604.py\", line 38, in xgb_objective\n",
      "    score = validate_objective(regression_obj).mean()\n",
      "            ^^^^^^^^^^^^^^^^^^^^^^^^^^^^^^^^^^\n",
      "  File \"/Users/danila/Documents/Python Projects/AI Hackathon 12.04.2024/AI-Hackathon-SFD/.venv/lib/python3.11/site-packages/sklearn/utils/_param_validation.py\", line 213, in wrapper\n",
      "    return func(*args, **kwargs)\n",
      "           ^^^^^^^^^^^^^^^^^^^^^\n",
      "  File \"/Users/danila/Documents/Python Projects/AI Hackathon 12.04.2024/AI-Hackathon-SFD/.venv/lib/python3.11/site-packages/sklearn/model_selection/_validation.py\", line 719, in cross_val_score\n",
      "    cv_results = cross_validate(\n",
      "                 ^^^^^^^^^^^^^^^\n",
      "  File \"/Users/danila/Documents/Python Projects/AI Hackathon 12.04.2024/AI-Hackathon-SFD/.venv/lib/python3.11/site-packages/sklearn/utils/_param_validation.py\", line 213, in wrapper\n",
      "    return func(*args, **kwargs)\n",
      "           ^^^^^^^^^^^^^^^^^^^^^\n",
      "  File \"/Users/danila/Documents/Python Projects/AI Hackathon 12.04.2024/AI-Hackathon-SFD/.venv/lib/python3.11/site-packages/sklearn/model_selection/_validation.py\", line 430, in cross_validate\n",
      "    results = parallel(\n",
      "              ^^^^^^^^^\n",
      "  File \"/Users/danila/Documents/Python Projects/AI Hackathon 12.04.2024/AI-Hackathon-SFD/.venv/lib/python3.11/site-packages/sklearn/utils/parallel.py\", line 67, in __call__\n",
      "    return super().__call__(iterable_with_config)\n",
      "           ^^^^^^^^^^^^^^^^^^^^^^^^^^^^^^^^^^^^^^\n",
      "  File \"/Users/danila/Documents/Python Projects/AI Hackathon 12.04.2024/AI-Hackathon-SFD/.venv/lib/python3.11/site-packages/joblib/parallel.py\", line 2007, in __call__\n",
      "    return output if self.return_generator else list(output)\n",
      "                                                ^^^^^^^^^^^^\n",
      "  File \"/Users/danila/Documents/Python Projects/AI Hackathon 12.04.2024/AI-Hackathon-SFD/.venv/lib/python3.11/site-packages/joblib/parallel.py\", line 1650, in _get_outputs\n",
      "    yield from self._retrieve()\n",
      "  File \"/Users/danila/Documents/Python Projects/AI Hackathon 12.04.2024/AI-Hackathon-SFD/.venv/lib/python3.11/site-packages/joblib/parallel.py\", line 1762, in _retrieve\n",
      "    time.sleep(0.01)\n",
      "KeyboardInterrupt\n",
      "[W 2024-04-13 17:14:32,894] Trial 0 failed with value None.\n"
     ]
    },
    {
     "ename": "KeyboardInterrupt",
     "evalue": "",
     "output_type": "error",
     "traceback": [
      "\u001b[0;31m---------------------------------------------------------------------------\u001b[0m",
      "\u001b[0;31mKeyboardInterrupt\u001b[0m                         Traceback (most recent call last)",
      "Cell \u001b[0;32mIn[26], line 11\u001b[0m\n\u001b[1;32m      9\u001b[0m \u001b[38;5;28;01mfor\u001b[39;00m i, (name, objective) \u001b[38;5;129;01min\u001b[39;00m \u001b[38;5;28menumerate\u001b[39m(objectives):\n\u001b[1;32m     10\u001b[0m     studies[i] \u001b[38;5;241m=\u001b[39m optuna\u001b[38;5;241m.\u001b[39mcreate_study(study_name\u001b[38;5;241m=\u001b[39mname, direction\u001b[38;5;241m=\u001b[39m\u001b[38;5;124m'\u001b[39m\u001b[38;5;124mmaximize\u001b[39m\u001b[38;5;124m'\u001b[39m, sampler\u001b[38;5;241m=\u001b[39mga_sampler)\n\u001b[0;32m---> 11\u001b[0m     \u001b[43mstudies\u001b[49m\u001b[43m[\u001b[49m\u001b[43mi\u001b[49m\u001b[43m]\u001b[49m\u001b[38;5;241;43m.\u001b[39;49m\u001b[43moptimize\u001b[49m\u001b[43m(\u001b[49m\u001b[43mobjective\u001b[49m\u001b[43m,\u001b[49m\u001b[43m \u001b[49m\u001b[43mn_trials\u001b[49m\u001b[38;5;241;43m=\u001b[39;49m\u001b[38;5;241;43m100\u001b[39;49m\u001b[43m)\u001b[49m\n",
      "File \u001b[0;32m~/Documents/Python Projects/AI Hackathon 12.04.2024/AI-Hackathon-SFD/.venv/lib/python3.11/site-packages/optuna/study/study.py:451\u001b[0m, in \u001b[0;36mStudy.optimize\u001b[0;34m(self, func, n_trials, timeout, n_jobs, catch, callbacks, gc_after_trial, show_progress_bar)\u001b[0m\n\u001b[1;32m    348\u001b[0m \u001b[38;5;28;01mdef\u001b[39;00m \u001b[38;5;21moptimize\u001b[39m(\n\u001b[1;32m    349\u001b[0m     \u001b[38;5;28mself\u001b[39m,\n\u001b[1;32m    350\u001b[0m     func: ObjectiveFuncType,\n\u001b[0;32m   (...)\u001b[0m\n\u001b[1;32m    357\u001b[0m     show_progress_bar: \u001b[38;5;28mbool\u001b[39m \u001b[38;5;241m=\u001b[39m \u001b[38;5;28;01mFalse\u001b[39;00m,\n\u001b[1;32m    358\u001b[0m ) \u001b[38;5;241m-\u001b[39m\u001b[38;5;241m>\u001b[39m \u001b[38;5;28;01mNone\u001b[39;00m:\n\u001b[1;32m    359\u001b[0m \u001b[38;5;250m    \u001b[39m\u001b[38;5;124;03m\"\"\"Optimize an objective function.\u001b[39;00m\n\u001b[1;32m    360\u001b[0m \n\u001b[1;32m    361\u001b[0m \u001b[38;5;124;03m    Optimization is done by choosing a suitable set of hyperparameter values from a given\u001b[39;00m\n\u001b[0;32m   (...)\u001b[0m\n\u001b[1;32m    449\u001b[0m \u001b[38;5;124;03m            If nested invocation of this method occurs.\u001b[39;00m\n\u001b[1;32m    450\u001b[0m \u001b[38;5;124;03m    \"\"\"\u001b[39;00m\n\u001b[0;32m--> 451\u001b[0m     \u001b[43m_optimize\u001b[49m\u001b[43m(\u001b[49m\n\u001b[1;32m    452\u001b[0m \u001b[43m        \u001b[49m\u001b[43mstudy\u001b[49m\u001b[38;5;241;43m=\u001b[39;49m\u001b[38;5;28;43mself\u001b[39;49m\u001b[43m,\u001b[49m\n\u001b[1;32m    453\u001b[0m \u001b[43m        \u001b[49m\u001b[43mfunc\u001b[49m\u001b[38;5;241;43m=\u001b[39;49m\u001b[43mfunc\u001b[49m\u001b[43m,\u001b[49m\n\u001b[1;32m    454\u001b[0m \u001b[43m        \u001b[49m\u001b[43mn_trials\u001b[49m\u001b[38;5;241;43m=\u001b[39;49m\u001b[43mn_trials\u001b[49m\u001b[43m,\u001b[49m\n\u001b[1;32m    455\u001b[0m \u001b[43m        \u001b[49m\u001b[43mtimeout\u001b[49m\u001b[38;5;241;43m=\u001b[39;49m\u001b[43mtimeout\u001b[49m\u001b[43m,\u001b[49m\n\u001b[1;32m    456\u001b[0m \u001b[43m        \u001b[49m\u001b[43mn_jobs\u001b[49m\u001b[38;5;241;43m=\u001b[39;49m\u001b[43mn_jobs\u001b[49m\u001b[43m,\u001b[49m\n\u001b[1;32m    457\u001b[0m \u001b[43m        \u001b[49m\u001b[43mcatch\u001b[49m\u001b[38;5;241;43m=\u001b[39;49m\u001b[38;5;28;43mtuple\u001b[39;49m\u001b[43m(\u001b[49m\u001b[43mcatch\u001b[49m\u001b[43m)\u001b[49m\u001b[43m \u001b[49m\u001b[38;5;28;43;01mif\u001b[39;49;00m\u001b[43m \u001b[49m\u001b[38;5;28;43misinstance\u001b[39;49m\u001b[43m(\u001b[49m\u001b[43mcatch\u001b[49m\u001b[43m,\u001b[49m\u001b[43m \u001b[49m\u001b[43mIterable\u001b[49m\u001b[43m)\u001b[49m\u001b[43m \u001b[49m\u001b[38;5;28;43;01melse\u001b[39;49;00m\u001b[43m \u001b[49m\u001b[43m(\u001b[49m\u001b[43mcatch\u001b[49m\u001b[43m,\u001b[49m\u001b[43m)\u001b[49m\u001b[43m,\u001b[49m\n\u001b[1;32m    458\u001b[0m \u001b[43m        \u001b[49m\u001b[43mcallbacks\u001b[49m\u001b[38;5;241;43m=\u001b[39;49m\u001b[43mcallbacks\u001b[49m\u001b[43m,\u001b[49m\n\u001b[1;32m    459\u001b[0m \u001b[43m        \u001b[49m\u001b[43mgc_after_trial\u001b[49m\u001b[38;5;241;43m=\u001b[39;49m\u001b[43mgc_after_trial\u001b[49m\u001b[43m,\u001b[49m\n\u001b[1;32m    460\u001b[0m \u001b[43m        \u001b[49m\u001b[43mshow_progress_bar\u001b[49m\u001b[38;5;241;43m=\u001b[39;49m\u001b[43mshow_progress_bar\u001b[49m\u001b[43m,\u001b[49m\n\u001b[1;32m    461\u001b[0m \u001b[43m    \u001b[49m\u001b[43m)\u001b[49m\n",
      "File \u001b[0;32m~/Documents/Python Projects/AI Hackathon 12.04.2024/AI-Hackathon-SFD/.venv/lib/python3.11/site-packages/optuna/study/_optimize.py:62\u001b[0m, in \u001b[0;36m_optimize\u001b[0;34m(study, func, n_trials, timeout, n_jobs, catch, callbacks, gc_after_trial, show_progress_bar)\u001b[0m\n\u001b[1;32m     60\u001b[0m \u001b[38;5;28;01mtry\u001b[39;00m:\n\u001b[1;32m     61\u001b[0m     \u001b[38;5;28;01mif\u001b[39;00m n_jobs \u001b[38;5;241m==\u001b[39m \u001b[38;5;241m1\u001b[39m:\n\u001b[0;32m---> 62\u001b[0m         \u001b[43m_optimize_sequential\u001b[49m\u001b[43m(\u001b[49m\n\u001b[1;32m     63\u001b[0m \u001b[43m            \u001b[49m\u001b[43mstudy\u001b[49m\u001b[43m,\u001b[49m\n\u001b[1;32m     64\u001b[0m \u001b[43m            \u001b[49m\u001b[43mfunc\u001b[49m\u001b[43m,\u001b[49m\n\u001b[1;32m     65\u001b[0m \u001b[43m            \u001b[49m\u001b[43mn_trials\u001b[49m\u001b[43m,\u001b[49m\n\u001b[1;32m     66\u001b[0m \u001b[43m            \u001b[49m\u001b[43mtimeout\u001b[49m\u001b[43m,\u001b[49m\n\u001b[1;32m     67\u001b[0m \u001b[43m            \u001b[49m\u001b[43mcatch\u001b[49m\u001b[43m,\u001b[49m\n\u001b[1;32m     68\u001b[0m \u001b[43m            \u001b[49m\u001b[43mcallbacks\u001b[49m\u001b[43m,\u001b[49m\n\u001b[1;32m     69\u001b[0m \u001b[43m            \u001b[49m\u001b[43mgc_after_trial\u001b[49m\u001b[43m,\u001b[49m\n\u001b[1;32m     70\u001b[0m \u001b[43m            \u001b[49m\u001b[43mreseed_sampler_rng\u001b[49m\u001b[38;5;241;43m=\u001b[39;49m\u001b[38;5;28;43;01mFalse\u001b[39;49;00m\u001b[43m,\u001b[49m\n\u001b[1;32m     71\u001b[0m \u001b[43m            \u001b[49m\u001b[43mtime_start\u001b[49m\u001b[38;5;241;43m=\u001b[39;49m\u001b[38;5;28;43;01mNone\u001b[39;49;00m\u001b[43m,\u001b[49m\n\u001b[1;32m     72\u001b[0m \u001b[43m            \u001b[49m\u001b[43mprogress_bar\u001b[49m\u001b[38;5;241;43m=\u001b[39;49m\u001b[43mprogress_bar\u001b[49m\u001b[43m,\u001b[49m\n\u001b[1;32m     73\u001b[0m \u001b[43m        \u001b[49m\u001b[43m)\u001b[49m\n\u001b[1;32m     74\u001b[0m     \u001b[38;5;28;01melse\u001b[39;00m:\n\u001b[1;32m     75\u001b[0m         \u001b[38;5;28;01mif\u001b[39;00m n_jobs \u001b[38;5;241m==\u001b[39m \u001b[38;5;241m-\u001b[39m\u001b[38;5;241m1\u001b[39m:\n",
      "File \u001b[0;32m~/Documents/Python Projects/AI Hackathon 12.04.2024/AI-Hackathon-SFD/.venv/lib/python3.11/site-packages/optuna/study/_optimize.py:159\u001b[0m, in \u001b[0;36m_optimize_sequential\u001b[0;34m(study, func, n_trials, timeout, catch, callbacks, gc_after_trial, reseed_sampler_rng, time_start, progress_bar)\u001b[0m\n\u001b[1;32m    156\u001b[0m         \u001b[38;5;28;01mbreak\u001b[39;00m\n\u001b[1;32m    158\u001b[0m \u001b[38;5;28;01mtry\u001b[39;00m:\n\u001b[0;32m--> 159\u001b[0m     frozen_trial \u001b[38;5;241m=\u001b[39m \u001b[43m_run_trial\u001b[49m\u001b[43m(\u001b[49m\u001b[43mstudy\u001b[49m\u001b[43m,\u001b[49m\u001b[43m \u001b[49m\u001b[43mfunc\u001b[49m\u001b[43m,\u001b[49m\u001b[43m \u001b[49m\u001b[43mcatch\u001b[49m\u001b[43m)\u001b[49m\n\u001b[1;32m    160\u001b[0m \u001b[38;5;28;01mfinally\u001b[39;00m:\n\u001b[1;32m    161\u001b[0m     \u001b[38;5;66;03m# The following line mitigates memory problems that can be occurred in some\u001b[39;00m\n\u001b[1;32m    162\u001b[0m     \u001b[38;5;66;03m# environments (e.g., services that use computing containers such as GitHub Actions).\u001b[39;00m\n\u001b[1;32m    163\u001b[0m     \u001b[38;5;66;03m# Please refer to the following PR for further details:\u001b[39;00m\n\u001b[1;32m    164\u001b[0m     \u001b[38;5;66;03m# https://github.com/optuna/optuna/pull/325.\u001b[39;00m\n\u001b[1;32m    165\u001b[0m     \u001b[38;5;28;01mif\u001b[39;00m gc_after_trial:\n",
      "File \u001b[0;32m~/Documents/Python Projects/AI Hackathon 12.04.2024/AI-Hackathon-SFD/.venv/lib/python3.11/site-packages/optuna/study/_optimize.py:247\u001b[0m, in \u001b[0;36m_run_trial\u001b[0;34m(study, func, catch)\u001b[0m\n\u001b[1;32m    240\u001b[0m         \u001b[38;5;28;01massert\u001b[39;00m \u001b[38;5;28;01mFalse\u001b[39;00m, \u001b[38;5;124m\"\u001b[39m\u001b[38;5;124mShould not reach.\u001b[39m\u001b[38;5;124m\"\u001b[39m\n\u001b[1;32m    242\u001b[0m \u001b[38;5;28;01mif\u001b[39;00m (\n\u001b[1;32m    243\u001b[0m     frozen_trial\u001b[38;5;241m.\u001b[39mstate \u001b[38;5;241m==\u001b[39m TrialState\u001b[38;5;241m.\u001b[39mFAIL\n\u001b[1;32m    244\u001b[0m     \u001b[38;5;129;01mand\u001b[39;00m func_err \u001b[38;5;129;01mis\u001b[39;00m \u001b[38;5;129;01mnot\u001b[39;00m \u001b[38;5;28;01mNone\u001b[39;00m\n\u001b[1;32m    245\u001b[0m     \u001b[38;5;129;01mand\u001b[39;00m \u001b[38;5;129;01mnot\u001b[39;00m \u001b[38;5;28misinstance\u001b[39m(func_err, catch)\n\u001b[1;32m    246\u001b[0m ):\n\u001b[0;32m--> 247\u001b[0m     \u001b[38;5;28;01mraise\u001b[39;00m func_err\n\u001b[1;32m    248\u001b[0m \u001b[38;5;28;01mreturn\u001b[39;00m frozen_trial\n",
      "File \u001b[0;32m~/Documents/Python Projects/AI Hackathon 12.04.2024/AI-Hackathon-SFD/.venv/lib/python3.11/site-packages/optuna/study/_optimize.py:196\u001b[0m, in \u001b[0;36m_run_trial\u001b[0;34m(study, func, catch)\u001b[0m\n\u001b[1;32m    194\u001b[0m \u001b[38;5;28;01mwith\u001b[39;00m get_heartbeat_thread(trial\u001b[38;5;241m.\u001b[39m_trial_id, study\u001b[38;5;241m.\u001b[39m_storage):\n\u001b[1;32m    195\u001b[0m     \u001b[38;5;28;01mtry\u001b[39;00m:\n\u001b[0;32m--> 196\u001b[0m         value_or_values \u001b[38;5;241m=\u001b[39m \u001b[43mfunc\u001b[49m\u001b[43m(\u001b[49m\u001b[43mtrial\u001b[49m\u001b[43m)\u001b[49m\n\u001b[1;32m    197\u001b[0m     \u001b[38;5;28;01mexcept\u001b[39;00m exceptions\u001b[38;5;241m.\u001b[39mTrialPruned \u001b[38;5;28;01mas\u001b[39;00m e:\n\u001b[1;32m    198\u001b[0m         \u001b[38;5;66;03m# TODO(mamu): Handle multi-objective cases.\u001b[39;00m\n\u001b[1;32m    199\u001b[0m         state \u001b[38;5;241m=\u001b[39m TrialState\u001b[38;5;241m.\u001b[39mPRUNED\n",
      "Cell \u001b[0;32mIn[25], line 38\u001b[0m, in \u001b[0;36mxgb_objective\u001b[0;34m(trial)\u001b[0m\n\u001b[1;32m     21\u001b[0m params \u001b[38;5;241m=\u001b[39m {\n\u001b[1;32m     22\u001b[0m     \u001b[38;5;124m'\u001b[39m\u001b[38;5;124mbooster\u001b[39m\u001b[38;5;124m'\u001b[39m: trial\u001b[38;5;241m.\u001b[39msuggest_categorical(\u001b[38;5;124m'\u001b[39m\u001b[38;5;124mbooster\u001b[39m\u001b[38;5;124m'\u001b[39m, [\u001b[38;5;124m'\u001b[39m\u001b[38;5;124mgbtree\u001b[39m\u001b[38;5;124m'\u001b[39m, \u001b[38;5;124m'\u001b[39m\u001b[38;5;124mgblinear\u001b[39m\u001b[38;5;124m'\u001b[39m, \u001b[38;5;124m'\u001b[39m\u001b[38;5;124mdart\u001b[39m\u001b[38;5;124m'\u001b[39m]),\n\u001b[1;32m     23\u001b[0m     \u001b[38;5;124m'\u001b[39m\u001b[38;5;124mlambda\u001b[39m\u001b[38;5;124m'\u001b[39m: trial\u001b[38;5;241m.\u001b[39msuggest_float(\u001b[38;5;124m'\u001b[39m\u001b[38;5;124mlambda\u001b[39m\u001b[38;5;124m'\u001b[39m, \u001b[38;5;241m1e-8\u001b[39m, \u001b[38;5;241m1.0\u001b[39m, log\u001b[38;5;241m=\u001b[39m\u001b[38;5;28;01mTrue\u001b[39;00m),\n\u001b[0;32m   (...)\u001b[0m\n\u001b[1;32m     34\u001b[0m     \u001b[38;5;124m'\u001b[39m\u001b[38;5;124mdevice\u001b[39m\u001b[38;5;124m'\u001b[39m: \u001b[38;5;124m'\u001b[39m\u001b[38;5;124mcuda\u001b[39m\u001b[38;5;124m'\u001b[39m\n\u001b[1;32m     35\u001b[0m }\n\u001b[1;32m     36\u001b[0m regression_obj \u001b[38;5;241m=\u001b[39m XGBClassifier(\u001b[38;5;241m*\u001b[39m\u001b[38;5;241m*\u001b[39mparams)\n\u001b[0;32m---> 38\u001b[0m score \u001b[38;5;241m=\u001b[39m \u001b[43mvalidate_objective\u001b[49m\u001b[43m(\u001b[49m\u001b[43mregression_obj\u001b[49m\u001b[43m)\u001b[49m\u001b[38;5;241m.\u001b[39mmean()\n\u001b[1;32m     39\u001b[0m \u001b[38;5;28;01mreturn\u001b[39;00m score\n",
      "File \u001b[0;32m~/Documents/Python Projects/AI Hackathon 12.04.2024/AI-Hackathon-SFD/.venv/lib/python3.11/site-packages/sklearn/utils/_param_validation.py:213\u001b[0m, in \u001b[0;36mvalidate_params.<locals>.decorator.<locals>.wrapper\u001b[0;34m(*args, **kwargs)\u001b[0m\n\u001b[1;32m    207\u001b[0m \u001b[38;5;28;01mtry\u001b[39;00m:\n\u001b[1;32m    208\u001b[0m     \u001b[38;5;28;01mwith\u001b[39;00m config_context(\n\u001b[1;32m    209\u001b[0m         skip_parameter_validation\u001b[38;5;241m=\u001b[39m(\n\u001b[1;32m    210\u001b[0m             prefer_skip_nested_validation \u001b[38;5;129;01mor\u001b[39;00m global_skip_validation\n\u001b[1;32m    211\u001b[0m         )\n\u001b[1;32m    212\u001b[0m     ):\n\u001b[0;32m--> 213\u001b[0m         \u001b[38;5;28;01mreturn\u001b[39;00m \u001b[43mfunc\u001b[49m\u001b[43m(\u001b[49m\u001b[38;5;241;43m*\u001b[39;49m\u001b[43margs\u001b[49m\u001b[43m,\u001b[49m\u001b[43m \u001b[49m\u001b[38;5;241;43m*\u001b[39;49m\u001b[38;5;241;43m*\u001b[39;49m\u001b[43mkwargs\u001b[49m\u001b[43m)\u001b[49m\n\u001b[1;32m    214\u001b[0m \u001b[38;5;28;01mexcept\u001b[39;00m InvalidParameterError \u001b[38;5;28;01mas\u001b[39;00m e:\n\u001b[1;32m    215\u001b[0m     \u001b[38;5;66;03m# When the function is just a wrapper around an estimator, we allow\u001b[39;00m\n\u001b[1;32m    216\u001b[0m     \u001b[38;5;66;03m# the function to delegate validation to the estimator, but we replace\u001b[39;00m\n\u001b[1;32m    217\u001b[0m     \u001b[38;5;66;03m# the name of the estimator by the name of the function in the error\u001b[39;00m\n\u001b[1;32m    218\u001b[0m     \u001b[38;5;66;03m# message to avoid confusion.\u001b[39;00m\n\u001b[1;32m    219\u001b[0m     msg \u001b[38;5;241m=\u001b[39m re\u001b[38;5;241m.\u001b[39msub(\n\u001b[1;32m    220\u001b[0m         \u001b[38;5;124mr\u001b[39m\u001b[38;5;124m\"\u001b[39m\u001b[38;5;124mparameter of \u001b[39m\u001b[38;5;124m\\\u001b[39m\u001b[38;5;124mw+ must be\u001b[39m\u001b[38;5;124m\"\u001b[39m,\n\u001b[1;32m    221\u001b[0m         \u001b[38;5;124mf\u001b[39m\u001b[38;5;124m\"\u001b[39m\u001b[38;5;124mparameter of \u001b[39m\u001b[38;5;132;01m{\u001b[39;00mfunc\u001b[38;5;241m.\u001b[39m\u001b[38;5;18m__qualname__\u001b[39m\u001b[38;5;132;01m}\u001b[39;00m\u001b[38;5;124m must be\u001b[39m\u001b[38;5;124m\"\u001b[39m,\n\u001b[1;32m    222\u001b[0m         \u001b[38;5;28mstr\u001b[39m(e),\n\u001b[1;32m    223\u001b[0m     )\n",
      "File \u001b[0;32m~/Documents/Python Projects/AI Hackathon 12.04.2024/AI-Hackathon-SFD/.venv/lib/python3.11/site-packages/sklearn/model_selection/_validation.py:719\u001b[0m, in \u001b[0;36mcross_val_score\u001b[0;34m(estimator, X, y, groups, scoring, cv, n_jobs, verbose, fit_params, params, pre_dispatch, error_score)\u001b[0m\n\u001b[1;32m    716\u001b[0m \u001b[38;5;66;03m# To ensure multimetric format is not supported\u001b[39;00m\n\u001b[1;32m    717\u001b[0m scorer \u001b[38;5;241m=\u001b[39m check_scoring(estimator, scoring\u001b[38;5;241m=\u001b[39mscoring)\n\u001b[0;32m--> 719\u001b[0m cv_results \u001b[38;5;241m=\u001b[39m \u001b[43mcross_validate\u001b[49m\u001b[43m(\u001b[49m\n\u001b[1;32m    720\u001b[0m \u001b[43m    \u001b[49m\u001b[43mestimator\u001b[49m\u001b[38;5;241;43m=\u001b[39;49m\u001b[43mestimator\u001b[49m\u001b[43m,\u001b[49m\n\u001b[1;32m    721\u001b[0m \u001b[43m    \u001b[49m\u001b[43mX\u001b[49m\u001b[38;5;241;43m=\u001b[39;49m\u001b[43mX\u001b[49m\u001b[43m,\u001b[49m\n\u001b[1;32m    722\u001b[0m \u001b[43m    \u001b[49m\u001b[43my\u001b[49m\u001b[38;5;241;43m=\u001b[39;49m\u001b[43my\u001b[49m\u001b[43m,\u001b[49m\n\u001b[1;32m    723\u001b[0m \u001b[43m    \u001b[49m\u001b[43mgroups\u001b[49m\u001b[38;5;241;43m=\u001b[39;49m\u001b[43mgroups\u001b[49m\u001b[43m,\u001b[49m\n\u001b[1;32m    724\u001b[0m \u001b[43m    \u001b[49m\u001b[43mscoring\u001b[49m\u001b[38;5;241;43m=\u001b[39;49m\u001b[43m{\u001b[49m\u001b[38;5;124;43m\"\u001b[39;49m\u001b[38;5;124;43mscore\u001b[39;49m\u001b[38;5;124;43m\"\u001b[39;49m\u001b[43m:\u001b[49m\u001b[43m \u001b[49m\u001b[43mscorer\u001b[49m\u001b[43m}\u001b[49m\u001b[43m,\u001b[49m\n\u001b[1;32m    725\u001b[0m \u001b[43m    \u001b[49m\u001b[43mcv\u001b[49m\u001b[38;5;241;43m=\u001b[39;49m\u001b[43mcv\u001b[49m\u001b[43m,\u001b[49m\n\u001b[1;32m    726\u001b[0m \u001b[43m    \u001b[49m\u001b[43mn_jobs\u001b[49m\u001b[38;5;241;43m=\u001b[39;49m\u001b[43mn_jobs\u001b[49m\u001b[43m,\u001b[49m\n\u001b[1;32m    727\u001b[0m \u001b[43m    \u001b[49m\u001b[43mverbose\u001b[49m\u001b[38;5;241;43m=\u001b[39;49m\u001b[43mverbose\u001b[49m\u001b[43m,\u001b[49m\n\u001b[1;32m    728\u001b[0m \u001b[43m    \u001b[49m\u001b[43mfit_params\u001b[49m\u001b[38;5;241;43m=\u001b[39;49m\u001b[43mfit_params\u001b[49m\u001b[43m,\u001b[49m\n\u001b[1;32m    729\u001b[0m \u001b[43m    \u001b[49m\u001b[43mparams\u001b[49m\u001b[38;5;241;43m=\u001b[39;49m\u001b[43mparams\u001b[49m\u001b[43m,\u001b[49m\n\u001b[1;32m    730\u001b[0m \u001b[43m    \u001b[49m\u001b[43mpre_dispatch\u001b[49m\u001b[38;5;241;43m=\u001b[39;49m\u001b[43mpre_dispatch\u001b[49m\u001b[43m,\u001b[49m\n\u001b[1;32m    731\u001b[0m \u001b[43m    \u001b[49m\u001b[43merror_score\u001b[49m\u001b[38;5;241;43m=\u001b[39;49m\u001b[43merror_score\u001b[49m\u001b[43m,\u001b[49m\n\u001b[1;32m    732\u001b[0m \u001b[43m\u001b[49m\u001b[43m)\u001b[49m\n\u001b[1;32m    733\u001b[0m \u001b[38;5;28;01mreturn\u001b[39;00m cv_results[\u001b[38;5;124m\"\u001b[39m\u001b[38;5;124mtest_score\u001b[39m\u001b[38;5;124m\"\u001b[39m]\n",
      "File \u001b[0;32m~/Documents/Python Projects/AI Hackathon 12.04.2024/AI-Hackathon-SFD/.venv/lib/python3.11/site-packages/sklearn/utils/_param_validation.py:213\u001b[0m, in \u001b[0;36mvalidate_params.<locals>.decorator.<locals>.wrapper\u001b[0;34m(*args, **kwargs)\u001b[0m\n\u001b[1;32m    207\u001b[0m \u001b[38;5;28;01mtry\u001b[39;00m:\n\u001b[1;32m    208\u001b[0m     \u001b[38;5;28;01mwith\u001b[39;00m config_context(\n\u001b[1;32m    209\u001b[0m         skip_parameter_validation\u001b[38;5;241m=\u001b[39m(\n\u001b[1;32m    210\u001b[0m             prefer_skip_nested_validation \u001b[38;5;129;01mor\u001b[39;00m global_skip_validation\n\u001b[1;32m    211\u001b[0m         )\n\u001b[1;32m    212\u001b[0m     ):\n\u001b[0;32m--> 213\u001b[0m         \u001b[38;5;28;01mreturn\u001b[39;00m \u001b[43mfunc\u001b[49m\u001b[43m(\u001b[49m\u001b[38;5;241;43m*\u001b[39;49m\u001b[43margs\u001b[49m\u001b[43m,\u001b[49m\u001b[43m \u001b[49m\u001b[38;5;241;43m*\u001b[39;49m\u001b[38;5;241;43m*\u001b[39;49m\u001b[43mkwargs\u001b[49m\u001b[43m)\u001b[49m\n\u001b[1;32m    214\u001b[0m \u001b[38;5;28;01mexcept\u001b[39;00m InvalidParameterError \u001b[38;5;28;01mas\u001b[39;00m e:\n\u001b[1;32m    215\u001b[0m     \u001b[38;5;66;03m# When the function is just a wrapper around an estimator, we allow\u001b[39;00m\n\u001b[1;32m    216\u001b[0m     \u001b[38;5;66;03m# the function to delegate validation to the estimator, but we replace\u001b[39;00m\n\u001b[1;32m    217\u001b[0m     \u001b[38;5;66;03m# the name of the estimator by the name of the function in the error\u001b[39;00m\n\u001b[1;32m    218\u001b[0m     \u001b[38;5;66;03m# message to avoid confusion.\u001b[39;00m\n\u001b[1;32m    219\u001b[0m     msg \u001b[38;5;241m=\u001b[39m re\u001b[38;5;241m.\u001b[39msub(\n\u001b[1;32m    220\u001b[0m         \u001b[38;5;124mr\u001b[39m\u001b[38;5;124m\"\u001b[39m\u001b[38;5;124mparameter of \u001b[39m\u001b[38;5;124m\\\u001b[39m\u001b[38;5;124mw+ must be\u001b[39m\u001b[38;5;124m\"\u001b[39m,\n\u001b[1;32m    221\u001b[0m         \u001b[38;5;124mf\u001b[39m\u001b[38;5;124m\"\u001b[39m\u001b[38;5;124mparameter of \u001b[39m\u001b[38;5;132;01m{\u001b[39;00mfunc\u001b[38;5;241m.\u001b[39m\u001b[38;5;18m__qualname__\u001b[39m\u001b[38;5;132;01m}\u001b[39;00m\u001b[38;5;124m must be\u001b[39m\u001b[38;5;124m\"\u001b[39m,\n\u001b[1;32m    222\u001b[0m         \u001b[38;5;28mstr\u001b[39m(e),\n\u001b[1;32m    223\u001b[0m     )\n",
      "File \u001b[0;32m~/Documents/Python Projects/AI Hackathon 12.04.2024/AI-Hackathon-SFD/.venv/lib/python3.11/site-packages/sklearn/model_selection/_validation.py:430\u001b[0m, in \u001b[0;36mcross_validate\u001b[0;34m(estimator, X, y, groups, scoring, cv, n_jobs, verbose, fit_params, params, pre_dispatch, return_train_score, return_estimator, return_indices, error_score)\u001b[0m\n\u001b[1;32m    427\u001b[0m \u001b[38;5;66;03m# We clone the estimator to make sure that all the folds are\u001b[39;00m\n\u001b[1;32m    428\u001b[0m \u001b[38;5;66;03m# independent, and that it is pickle-able.\u001b[39;00m\n\u001b[1;32m    429\u001b[0m parallel \u001b[38;5;241m=\u001b[39m Parallel(n_jobs\u001b[38;5;241m=\u001b[39mn_jobs, verbose\u001b[38;5;241m=\u001b[39mverbose, pre_dispatch\u001b[38;5;241m=\u001b[39mpre_dispatch)\n\u001b[0;32m--> 430\u001b[0m results \u001b[38;5;241m=\u001b[39m \u001b[43mparallel\u001b[49m\u001b[43m(\u001b[49m\n\u001b[1;32m    431\u001b[0m \u001b[43m    \u001b[49m\u001b[43mdelayed\u001b[49m\u001b[43m(\u001b[49m\u001b[43m_fit_and_score\u001b[49m\u001b[43m)\u001b[49m\u001b[43m(\u001b[49m\n\u001b[1;32m    432\u001b[0m \u001b[43m        \u001b[49m\u001b[43mclone\u001b[49m\u001b[43m(\u001b[49m\u001b[43mestimator\u001b[49m\u001b[43m)\u001b[49m\u001b[43m,\u001b[49m\n\u001b[1;32m    433\u001b[0m \u001b[43m        \u001b[49m\u001b[43mX\u001b[49m\u001b[43m,\u001b[49m\n\u001b[1;32m    434\u001b[0m \u001b[43m        \u001b[49m\u001b[43my\u001b[49m\u001b[43m,\u001b[49m\n\u001b[1;32m    435\u001b[0m \u001b[43m        \u001b[49m\u001b[43mscorer\u001b[49m\u001b[38;5;241;43m=\u001b[39;49m\u001b[43mscorers\u001b[49m\u001b[43m,\u001b[49m\n\u001b[1;32m    436\u001b[0m \u001b[43m        \u001b[49m\u001b[43mtrain\u001b[49m\u001b[38;5;241;43m=\u001b[39;49m\u001b[43mtrain\u001b[49m\u001b[43m,\u001b[49m\n\u001b[1;32m    437\u001b[0m \u001b[43m        \u001b[49m\u001b[43mtest\u001b[49m\u001b[38;5;241;43m=\u001b[39;49m\u001b[43mtest\u001b[49m\u001b[43m,\u001b[49m\n\u001b[1;32m    438\u001b[0m \u001b[43m        \u001b[49m\u001b[43mverbose\u001b[49m\u001b[38;5;241;43m=\u001b[39;49m\u001b[43mverbose\u001b[49m\u001b[43m,\u001b[49m\n\u001b[1;32m    439\u001b[0m \u001b[43m        \u001b[49m\u001b[43mparameters\u001b[49m\u001b[38;5;241;43m=\u001b[39;49m\u001b[38;5;28;43;01mNone\u001b[39;49;00m\u001b[43m,\u001b[49m\n\u001b[1;32m    440\u001b[0m \u001b[43m        \u001b[49m\u001b[43mfit_params\u001b[49m\u001b[38;5;241;43m=\u001b[39;49m\u001b[43mrouted_params\u001b[49m\u001b[38;5;241;43m.\u001b[39;49m\u001b[43mestimator\u001b[49m\u001b[38;5;241;43m.\u001b[39;49m\u001b[43mfit\u001b[49m\u001b[43m,\u001b[49m\n\u001b[1;32m    441\u001b[0m \u001b[43m        \u001b[49m\u001b[43mscore_params\u001b[49m\u001b[38;5;241;43m=\u001b[39;49m\u001b[43mrouted_params\u001b[49m\u001b[38;5;241;43m.\u001b[39;49m\u001b[43mscorer\u001b[49m\u001b[38;5;241;43m.\u001b[39;49m\u001b[43mscore\u001b[49m\u001b[43m,\u001b[49m\n\u001b[1;32m    442\u001b[0m \u001b[43m        \u001b[49m\u001b[43mreturn_train_score\u001b[49m\u001b[38;5;241;43m=\u001b[39;49m\u001b[43mreturn_train_score\u001b[49m\u001b[43m,\u001b[49m\n\u001b[1;32m    443\u001b[0m \u001b[43m        \u001b[49m\u001b[43mreturn_times\u001b[49m\u001b[38;5;241;43m=\u001b[39;49m\u001b[38;5;28;43;01mTrue\u001b[39;49;00m\u001b[43m,\u001b[49m\n\u001b[1;32m    444\u001b[0m \u001b[43m        \u001b[49m\u001b[43mreturn_estimator\u001b[49m\u001b[38;5;241;43m=\u001b[39;49m\u001b[43mreturn_estimator\u001b[49m\u001b[43m,\u001b[49m\n\u001b[1;32m    445\u001b[0m \u001b[43m        \u001b[49m\u001b[43merror_score\u001b[49m\u001b[38;5;241;43m=\u001b[39;49m\u001b[43merror_score\u001b[49m\u001b[43m,\u001b[49m\n\u001b[1;32m    446\u001b[0m \u001b[43m    \u001b[49m\u001b[43m)\u001b[49m\n\u001b[1;32m    447\u001b[0m \u001b[43m    \u001b[49m\u001b[38;5;28;43;01mfor\u001b[39;49;00m\u001b[43m \u001b[49m\u001b[43mtrain\u001b[49m\u001b[43m,\u001b[49m\u001b[43m \u001b[49m\u001b[43mtest\u001b[49m\u001b[43m \u001b[49m\u001b[38;5;129;43;01min\u001b[39;49;00m\u001b[43m \u001b[49m\u001b[43mindices\u001b[49m\n\u001b[1;32m    448\u001b[0m \u001b[43m\u001b[49m\u001b[43m)\u001b[49m\n\u001b[1;32m    450\u001b[0m _warn_or_raise_about_fit_failures(results, error_score)\n\u001b[1;32m    452\u001b[0m \u001b[38;5;66;03m# For callable scoring, the return type is only know after calling. If the\u001b[39;00m\n\u001b[1;32m    453\u001b[0m \u001b[38;5;66;03m# return type is a dictionary, the error scores can now be inserted with\u001b[39;00m\n\u001b[1;32m    454\u001b[0m \u001b[38;5;66;03m# the correct key.\u001b[39;00m\n",
      "File \u001b[0;32m~/Documents/Python Projects/AI Hackathon 12.04.2024/AI-Hackathon-SFD/.venv/lib/python3.11/site-packages/sklearn/utils/parallel.py:67\u001b[0m, in \u001b[0;36mParallel.__call__\u001b[0;34m(self, iterable)\u001b[0m\n\u001b[1;32m     62\u001b[0m config \u001b[38;5;241m=\u001b[39m get_config()\n\u001b[1;32m     63\u001b[0m iterable_with_config \u001b[38;5;241m=\u001b[39m (\n\u001b[1;32m     64\u001b[0m     (_with_config(delayed_func, config), args, kwargs)\n\u001b[1;32m     65\u001b[0m     \u001b[38;5;28;01mfor\u001b[39;00m delayed_func, args, kwargs \u001b[38;5;129;01min\u001b[39;00m iterable\n\u001b[1;32m     66\u001b[0m )\n\u001b[0;32m---> 67\u001b[0m \u001b[38;5;28;01mreturn\u001b[39;00m \u001b[38;5;28;43msuper\u001b[39;49m\u001b[43m(\u001b[49m\u001b[43m)\u001b[49m\u001b[38;5;241;43m.\u001b[39;49m\u001b[38;5;21;43m__call__\u001b[39;49m\u001b[43m(\u001b[49m\u001b[43miterable_with_config\u001b[49m\u001b[43m)\u001b[49m\n",
      "File \u001b[0;32m~/Documents/Python Projects/AI Hackathon 12.04.2024/AI-Hackathon-SFD/.venv/lib/python3.11/site-packages/joblib/parallel.py:2007\u001b[0m, in \u001b[0;36mParallel.__call__\u001b[0;34m(self, iterable)\u001b[0m\n\u001b[1;32m   2001\u001b[0m \u001b[38;5;66;03m# The first item from the output is blank, but it makes the interpreter\u001b[39;00m\n\u001b[1;32m   2002\u001b[0m \u001b[38;5;66;03m# progress until it enters the Try/Except block of the generator and\u001b[39;00m\n\u001b[1;32m   2003\u001b[0m \u001b[38;5;66;03m# reach the first `yield` statement. This starts the aynchronous\u001b[39;00m\n\u001b[1;32m   2004\u001b[0m \u001b[38;5;66;03m# dispatch of the tasks to the workers.\u001b[39;00m\n\u001b[1;32m   2005\u001b[0m \u001b[38;5;28mnext\u001b[39m(output)\n\u001b[0;32m-> 2007\u001b[0m \u001b[38;5;28;01mreturn\u001b[39;00m output \u001b[38;5;28;01mif\u001b[39;00m \u001b[38;5;28mself\u001b[39m\u001b[38;5;241m.\u001b[39mreturn_generator \u001b[38;5;28;01melse\u001b[39;00m \u001b[38;5;28;43mlist\u001b[39;49m\u001b[43m(\u001b[49m\u001b[43moutput\u001b[49m\u001b[43m)\u001b[49m\n",
      "File \u001b[0;32m~/Documents/Python Projects/AI Hackathon 12.04.2024/AI-Hackathon-SFD/.venv/lib/python3.11/site-packages/joblib/parallel.py:1650\u001b[0m, in \u001b[0;36mParallel._get_outputs\u001b[0;34m(self, iterator, pre_dispatch)\u001b[0m\n\u001b[1;32m   1647\u001b[0m     \u001b[38;5;28;01myield\u001b[39;00m\n\u001b[1;32m   1649\u001b[0m     \u001b[38;5;28;01mwith\u001b[39;00m \u001b[38;5;28mself\u001b[39m\u001b[38;5;241m.\u001b[39m_backend\u001b[38;5;241m.\u001b[39mretrieval_context():\n\u001b[0;32m-> 1650\u001b[0m         \u001b[38;5;28;01myield from\u001b[39;00m \u001b[38;5;28mself\u001b[39m\u001b[38;5;241m.\u001b[39m_retrieve()\n\u001b[1;32m   1652\u001b[0m \u001b[38;5;28;01mexcept\u001b[39;00m \u001b[38;5;167;01mGeneratorExit\u001b[39;00m:\n\u001b[1;32m   1653\u001b[0m     \u001b[38;5;66;03m# The generator has been garbage collected before being fully\u001b[39;00m\n\u001b[1;32m   1654\u001b[0m     \u001b[38;5;66;03m# consumed. This aborts the remaining tasks if possible and warn\u001b[39;00m\n\u001b[1;32m   1655\u001b[0m     \u001b[38;5;66;03m# the user if necessary.\u001b[39;00m\n\u001b[1;32m   1656\u001b[0m     \u001b[38;5;28mself\u001b[39m\u001b[38;5;241m.\u001b[39m_exception \u001b[38;5;241m=\u001b[39m \u001b[38;5;28;01mTrue\u001b[39;00m\n",
      "File \u001b[0;32m~/Documents/Python Projects/AI Hackathon 12.04.2024/AI-Hackathon-SFD/.venv/lib/python3.11/site-packages/joblib/parallel.py:1762\u001b[0m, in \u001b[0;36mParallel._retrieve\u001b[0;34m(self)\u001b[0m\n\u001b[1;32m   1757\u001b[0m \u001b[38;5;66;03m# If the next job is not ready for retrieval yet, we just wait for\u001b[39;00m\n\u001b[1;32m   1758\u001b[0m \u001b[38;5;66;03m# async callbacks to progress.\u001b[39;00m\n\u001b[1;32m   1759\u001b[0m \u001b[38;5;28;01mif\u001b[39;00m ((\u001b[38;5;28mlen\u001b[39m(\u001b[38;5;28mself\u001b[39m\u001b[38;5;241m.\u001b[39m_jobs) \u001b[38;5;241m==\u001b[39m \u001b[38;5;241m0\u001b[39m) \u001b[38;5;129;01mor\u001b[39;00m\n\u001b[1;32m   1760\u001b[0m     (\u001b[38;5;28mself\u001b[39m\u001b[38;5;241m.\u001b[39m_jobs[\u001b[38;5;241m0\u001b[39m]\u001b[38;5;241m.\u001b[39mget_status(\n\u001b[1;32m   1761\u001b[0m         timeout\u001b[38;5;241m=\u001b[39m\u001b[38;5;28mself\u001b[39m\u001b[38;5;241m.\u001b[39mtimeout) \u001b[38;5;241m==\u001b[39m TASK_PENDING)):\n\u001b[0;32m-> 1762\u001b[0m     time\u001b[38;5;241m.\u001b[39msleep(\u001b[38;5;241m0.01\u001b[39m)\n\u001b[1;32m   1763\u001b[0m     \u001b[38;5;28;01mcontinue\u001b[39;00m\n\u001b[1;32m   1765\u001b[0m \u001b[38;5;66;03m# We need to be careful: the job list can be filling up as\u001b[39;00m\n\u001b[1;32m   1766\u001b[0m \u001b[38;5;66;03m# we empty it and Python list are not thread-safe by\u001b[39;00m\n\u001b[1;32m   1767\u001b[0m \u001b[38;5;66;03m# default hence the use of the lock\u001b[39;00m\n",
      "\u001b[0;31mKeyboardInterrupt\u001b[0m: "
     ]
    }
   ],
   "source": [
    "ga_sampler = optuna.samplers.NSGAIISampler(\n",
    "    population_size=50,\n",
    "    mutation_prob=0.14,\n",
    "    crossover=optuna.samplers.nsgaii.VSBXCrossover()\n",
    ")\n",
    "\n",
    "\n",
    "studies: list[optuna.Study] = [None] * len(objectives)\n",
    "for i, (name, objective) in enumerate(objectives):\n",
    "    studies[i] = optuna.create_study(study_name=name, direction='maximize', sampler=ga_sampler)\n",
    "    studies[i].optimize(objective, n_trials=100)"
   ]
  }
 ],
 "metadata": {
  "kernelspec": {
   "display_name": ".venv",
   "language": "python",
   "name": "python3"
  },
  "language_info": {
   "codemirror_mode": {
    "name": "ipython",
    "version": 3
   },
   "file_extension": ".py",
   "mimetype": "text/x-python",
   "name": "python",
   "nbconvert_exporter": "python",
   "pygments_lexer": "ipython3",
   "version": "3.11.5"
  }
 },
 "nbformat": 4,
 "nbformat_minor": 2
}
