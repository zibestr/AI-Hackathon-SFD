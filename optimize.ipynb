{
 "cells": [
  {
   "cell_type": "code",
   "execution_count": 1,
   "metadata": {
    "ExecuteTime": {
     "end_time": "2024-04-13T12:03:51.921582Z",
     "start_time": "2024-04-13T12:03:51.907584Z"
    }
   },
   "outputs": [],
   "source": [
    "import pandas as pd\n",
    "import numpy as np\n",
    "from tqdm import tqdm"
   ]
  },
  {
   "cell_type": "code",
   "execution_count": 2,
   "metadata": {
    "ExecuteTime": {
     "end_time": "2024-04-13T12:03:51.926980Z",
     "start_time": "2024-04-13T12:03:51.922583Z"
    }
   },
   "outputs": [],
   "source": [
    "seed = 739"
   ]
  },
  {
   "cell_type": "markdown",
   "metadata": {},
   "source": [
    "# Обработка данных"
   ]
  },
  {
   "cell_type": "markdown",
   "metadata": {},
   "source": [
    "## Загрузка данных"
   ]
  },
  {
   "cell_type": "code",
   "execution_count": 3,
   "metadata": {
    "ExecuteTime": {
     "end_time": "2024-04-13T12:04:11.007483Z",
     "start_time": "2024-04-13T12:03:51.929969Z"
    }
   },
   "outputs": [],
   "source": [
    "train_df = pd.read_csv('data/train.csv', delimiter=',')\n",
    "# cntrbtrs = pd.read_csv('data/cntrbtrs.csv', delimiter=';')\n",
    "# trnsctns = pd.read_csv('data/trnsctns.csv', delimiter=';')"
   ]
  },
  {
   "cell_type": "markdown",
   "metadata": {},
   "source": [
    "Берем данные только с 2003 года"
   ]
  },
  {
   "cell_type": "code",
   "execution_count": 4,
   "metadata": {
    "ExecuteTime": {
     "end_time": "2024-04-13T12:04:12.538468Z",
     "start_time": "2024-04-13T12:04:11.645716Z"
    }
   },
   "outputs": [],
   "source": [
    "train_df = train_df.loc[train_df['year'] >= 2003]"
   ]
  },
  {
   "cell_type": "markdown",
   "metadata": {
    "collapsed": false
   },
   "source": [
    "## Добавление новых столбцов"
   ]
  },
  {
   "cell_type": "code",
   "execution_count": 5,
   "metadata": {
    "ExecuteTime": {
     "end_time": "2024-04-13T12:04:12.636234Z",
     "start_time": "2024-04-13T12:04:12.594678Z"
    },
    "collapsed": false
   },
   "outputs": [],
   "source": [
    "currency_df = pd.read_csv('external_data/currency.csv')\n",
    "GDP_df = pd.read_csv('external_data/GDP.csv')\n",
    "inflation_df = pd.read_csv('external_data/inflation.csv')\n",
    "unemployment_df = pd.read_csv('external_data/Unemployment.csv')"
   ]
  },
  {
   "cell_type": "code",
   "execution_count": 6,
   "metadata": {
    "ExecuteTime": {
     "end_time": "2024-04-13T12:05:34.034982Z",
     "start_time": "2024-04-13T12:04:12.649581Z"
    },
    "collapsed": false
   },
   "outputs": [
    {
     "name": "stderr",
     "output_type": "stream",
     "text": [
      "84it [00:51,  1.63it/s]\n"
     ]
    },
    {
     "data": {
      "text/html": [
       "<div>\n",
       "<style scoped>\n",
       "    .dataframe tbody tr th:only-of-type {\n",
       "        vertical-align: middle;\n",
       "    }\n",
       "\n",
       "    .dataframe tbody tr th {\n",
       "        vertical-align: top;\n",
       "    }\n",
       "\n",
       "    .dataframe thead th {\n",
       "        text-align: right;\n",
       "    }\n",
       "</style>\n",
       "<table border=\"1\" class=\"dataframe\">\n",
       "  <thead>\n",
       "    <tr style=\"text-align: right;\">\n",
       "      <th></th>\n",
       "      <th>slctn_nmbr</th>\n",
       "      <th>client_id</th>\n",
       "      <th>npo_account_id</th>\n",
       "      <th>npo_accnts_nmbr</th>\n",
       "      <th>pmnts_type</th>\n",
       "      <th>year</th>\n",
       "      <th>quarter</th>\n",
       "      <th>gender</th>\n",
       "      <th>age</th>\n",
       "      <th>clnt_cprtn_time_d</th>\n",
       "      <th>...</th>\n",
       "      <th>region</th>\n",
       "      <th>citizen</th>\n",
       "      <th>fact_addrss</th>\n",
       "      <th>appl_mrkr</th>\n",
       "      <th>evry_qrtr_pmnt</th>\n",
       "      <th>churn</th>\n",
       "      <th>currency</th>\n",
       "      <th>GDP</th>\n",
       "      <th>inflation</th>\n",
       "      <th>unemployment</th>\n",
       "    </tr>\n",
       "  </thead>\n",
       "  <tbody>\n",
       "    <tr>\n",
       "      <th>0</th>\n",
       "      <td>1</td>\n",
       "      <td>0xA095932790098744A2325A8D152C05C7</td>\n",
       "      <td>0xD4DBBAC6561929409BA45725A220613E</td>\n",
       "      <td>1</td>\n",
       "      <td>2</td>\n",
       "      <td>2017</td>\n",
       "      <td>2017Q4</td>\n",
       "      <td>1</td>\n",
       "      <td>48</td>\n",
       "      <td>8091</td>\n",
       "      <td>...</td>\n",
       "      <td>САМАРСКАЯ ОБЛ</td>\n",
       "      <td>-1</td>\n",
       "      <td>-1</td>\n",
       "      <td>0</td>\n",
       "      <td>0</td>\n",
       "      <td>0</td>\n",
       "      <td>58.402211</td>\n",
       "      <td>25621.2</td>\n",
       "      <td>2.583333</td>\n",
       "      <td>5.07</td>\n",
       "    </tr>\n",
       "    <tr>\n",
       "      <th>1</th>\n",
       "      <td>0</td>\n",
       "      <td>0xF75BAA20A603A2479005DEB80464336E</td>\n",
       "      <td>0x3DCFF11974B3D8458CE3569DE9E855D5</td>\n",
       "      <td>2</td>\n",
       "      <td>2</td>\n",
       "      <td>2009</td>\n",
       "      <td>2009Q1</td>\n",
       "      <td>1</td>\n",
       "      <td>35</td>\n",
       "      <td>3303</td>\n",
       "      <td>...</td>\n",
       "      <td>ЛИПЕЦКАЯ ОБЛ</td>\n",
       "      <td>-1</td>\n",
       "      <td>1</td>\n",
       "      <td>0</td>\n",
       "      <td>1</td>\n",
       "      <td>0</td>\n",
       "      <td>34.392777</td>\n",
       "      <td>8334.6</td>\n",
       "      <td>13.726667</td>\n",
       "      <td>8.87</td>\n",
       "    </tr>\n",
       "    <tr>\n",
       "      <th>2</th>\n",
       "      <td>2</td>\n",
       "      <td>0x0D18081E0556AF4F95A931FBA4159D52</td>\n",
       "      <td>0x9DADF88CB3407C4E89403315F640393E</td>\n",
       "      <td>1</td>\n",
       "      <td>1</td>\n",
       "      <td>2010</td>\n",
       "      <td>2010Q1</td>\n",
       "      <td>1</td>\n",
       "      <td>47</td>\n",
       "      <td>1163</td>\n",
       "      <td>...</td>\n",
       "      <td>ОРЛОВСКАЯ ОБЛ</td>\n",
       "      <td>1</td>\n",
       "      <td>1</td>\n",
       "      <td>0</td>\n",
       "      <td>1</td>\n",
       "      <td>0</td>\n",
       "      <td>29.842293</td>\n",
       "      <td>9995.8</td>\n",
       "      <td>7.220000</td>\n",
       "      <td>8.67</td>\n",
       "    </tr>\n",
       "    <tr>\n",
       "      <th>3</th>\n",
       "      <td>0</td>\n",
       "      <td>0x0AD72BC5475D9A4D83E12350A84F839D</td>\n",
       "      <td>0xF59C4E62F115684899EAE9B5D5ECF70F</td>\n",
       "      <td>1</td>\n",
       "      <td>1</td>\n",
       "      <td>2005</td>\n",
       "      <td>2005Q4</td>\n",
       "      <td>-1</td>\n",
       "      <td>42</td>\n",
       "      <td>47</td>\n",
       "      <td>...</td>\n",
       "      <td>СВЕРДЛОВСКАЯ ОБЛ</td>\n",
       "      <td>1</td>\n",
       "      <td>1</td>\n",
       "      <td>0</td>\n",
       "      <td>1</td>\n",
       "      <td>0</td>\n",
       "      <td>28.713011</td>\n",
       "      <td>6228.1</td>\n",
       "      <td>11.286667</td>\n",
       "      <td>7.00</td>\n",
       "    </tr>\n",
       "    <tr>\n",
       "      <th>4</th>\n",
       "      <td>0</td>\n",
       "      <td>0x73DF06339CC25840838408BAD52BE223</td>\n",
       "      <td>0x35BFFA05321C014B9FC29A189E89EDF0</td>\n",
       "      <td>2</td>\n",
       "      <td>2</td>\n",
       "      <td>2007</td>\n",
       "      <td>2007Q4</td>\n",
       "      <td>1</td>\n",
       "      <td>42</td>\n",
       "      <td>876</td>\n",
       "      <td>...</td>\n",
       "      <td>ЛИПЕЦКАЯ ОБЛ</td>\n",
       "      <td>1</td>\n",
       "      <td>1</td>\n",
       "      <td>0</td>\n",
       "      <td>1</td>\n",
       "      <td>0</td>\n",
       "      <td>24.648172</td>\n",
       "      <td>9797.0</td>\n",
       "      <td>11.396667</td>\n",
       "      <td>5.80</td>\n",
       "    </tr>\n",
       "  </tbody>\n",
       "</table>\n",
       "<p>5 rows × 46 columns</p>\n",
       "</div>"
      ],
      "text/plain": [
       "   slctn_nmbr                           client_id  \\\n",
       "0           1  0xA095932790098744A2325A8D152C05C7   \n",
       "1           0  0xF75BAA20A603A2479005DEB80464336E   \n",
       "2           2  0x0D18081E0556AF4F95A931FBA4159D52   \n",
       "3           0  0x0AD72BC5475D9A4D83E12350A84F839D   \n",
       "4           0  0x73DF06339CC25840838408BAD52BE223   \n",
       "\n",
       "                       npo_account_id  npo_accnts_nmbr  pmnts_type  year  \\\n",
       "0  0xD4DBBAC6561929409BA45725A220613E                1           2  2017   \n",
       "1  0x3DCFF11974B3D8458CE3569DE9E855D5                2           2  2009   \n",
       "2  0x9DADF88CB3407C4E89403315F640393E                1           1  2010   \n",
       "3  0xF59C4E62F115684899EAE9B5D5ECF70F                1           1  2005   \n",
       "4  0x35BFFA05321C014B9FC29A189E89EDF0                2           2  2007   \n",
       "\n",
       "  quarter  gender  age  clnt_cprtn_time_d  ...            region  citizen  \\\n",
       "0  2017Q4       1   48               8091  ...     САМАРСКАЯ ОБЛ       -1   \n",
       "1  2009Q1       1   35               3303  ...      ЛИПЕЦКАЯ ОБЛ       -1   \n",
       "2  2010Q1       1   47               1163  ...     ОРЛОВСКАЯ ОБЛ        1   \n",
       "3  2005Q4      -1   42                 47  ...  СВЕРДЛОВСКАЯ ОБЛ        1   \n",
       "4  2007Q4       1   42                876  ...      ЛИПЕЦКАЯ ОБЛ        1   \n",
       "\n",
       "   fact_addrss  appl_mrkr  evry_qrtr_pmnt churn   currency      GDP  \\\n",
       "0           -1          0               0     0  58.402211  25621.2   \n",
       "1            1          0               1     0  34.392777   8334.6   \n",
       "2            1          0               1     0  29.842293   9995.8   \n",
       "3            1          0               1     0  28.713011   6228.1   \n",
       "4            1          0               1     0  24.648172   9797.0   \n",
       "\n",
       "   inflation  unemployment  \n",
       "0   2.583333          5.07  \n",
       "1  13.726667          8.87  \n",
       "2   7.220000          8.67  \n",
       "3  11.286667          7.00  \n",
       "4  11.396667          5.80  \n",
       "\n",
       "[5 rows x 46 columns]"
      ]
     },
     "execution_count": 6,
     "metadata": {},
     "output_type": "execute_result"
    }
   ],
   "source": [
    "for i, quarter in tqdm(enumerate(currency_df.loc[:, 'quarter'])):\n",
    "    train_df.loc[train_df['quarter'] == quarter, 'currency'] = currency_df.iloc[i, 1]\n",
    "    train_df.loc[train_df['quarter'] == quarter, 'GDP'] = GDP_df.iloc[i, 1]\n",
    "    train_df.loc[train_df['quarter'] == quarter, 'inflation'] = inflation_df.iloc[i, 1]\n",
    "    train_df.loc[train_df['quarter'] == quarter, 'unemployment'] = unemployment_df.iloc[i, 0]\n",
    "train_df.head(5)"
   ]
  },
  {
   "cell_type": "markdown",
   "metadata": {},
   "source": [
    "## Обработка пропущенных данных"
   ]
  },
  {
   "cell_type": "markdown",
   "metadata": {},
   "source": [
    "### Train.csv"
   ]
  },
  {
   "cell_type": "markdown",
   "metadata": {},
   "source": [
    "Пустые столбцы:\n",
    "- frst_pmnt_date\n",
    "- lst_pmnt_date_per_qrtr\n",
    "- postal_code\n",
    "- region"
   ]
  },
  {
   "cell_type": "markdown",
   "metadata": {},
   "source": [
    "Вычислим регионы по почтовым индексам"
   ]
  },
  {
   "cell_type": "code",
   "execution_count": 7,
   "metadata": {
    "ExecuteTime": {
     "end_time": "2024-04-13T12:05:38.428637Z",
     "start_time": "2024-04-13T12:05:34.320938Z"
    }
   },
   "outputs": [],
   "source": [
    "buffer = train_df.loc[train_df['region'].notna() & train_df['postal_code'].notna() & train_df['postal_code'] > 0]\n",
    "dict_ = {str(code)[-3:]: region for (region, code) in zip(buffer['region'], buffer['postal_code'])}\n",
    "\n",
    "buffer = train_df.loc[train_df['region'].isna() & train_df['postal_code'].notna()]"
   ]
  },
  {
   "cell_type": "code",
   "execution_count": 8,
   "metadata": {
    "ExecuteTime": {
     "end_time": "2024-04-13T12:05:43.815977Z",
     "start_time": "2024-04-13T12:05:38.429637Z"
    }
   },
   "outputs": [],
   "source": [
    "dict_[\"0\"] = np.NAN\n",
    "list_ = []\n",
    "\n",
    "for i, row in buffer.iterrows():\n",
    "    code = str(row['postal_code'])[-3:]\n",
    "    list_.append(dict_[code])\n",
    "\n",
    "train_df.loc[train_df.loc[:, 'region'].isna() & train_df.loc[:, 'postal_code'].notna(), 'region'] = pd.Series(list_)"
   ]
  },
  {
   "cell_type": "markdown",
   "metadata": {},
   "source": [
    "Проверяем пустые строки"
   ]
  },
  {
   "cell_type": "code",
   "execution_count": 9,
   "metadata": {
    "ExecuteTime": {
     "end_time": "2024-04-13T12:05:47.210463Z",
     "start_time": "2024-04-13T12:05:47.015348Z"
    }
   },
   "outputs": [
    {
     "name": "stderr",
     "output_type": "stream",
     "text": [
      "C:\\Users\\aligo\\AppData\\Local\\Temp\\ipykernel_16872\\736859608.py:1: FutureWarning: A value is trying to be set on a copy of a DataFrame or Series through chained assignment using an inplace method.\n",
      "The behavior will change in pandas 3.0. This inplace method will never work because the intermediate object on which we are setting values always behaves as a copy.\n",
      "\n",
      "For example, when doing 'df[col].method(value, inplace=True)', try using 'df.method({col: value}, inplace=True)' or df[col] = df[col].method(value) instead, to perform the operation inplace on the original object.\n",
      "\n",
      "\n",
      "  train_df['region'].fillna('Неизвестен', inplace=True)\n"
     ]
    }
   ],
   "source": [
    "train_df['region'].fillna('Неизвестен', inplace=True)"
   ]
  },
  {
   "cell_type": "markdown",
   "metadata": {},
   "source": [
    "### Удаляем лишние столбцы\n",
    "- slctn_nmbr\n",
    "- client_id\n",
    "- npo_account_id\n",
    "- year\n",
    "- frst_pmnt_date\n",
    "- lst_pmnt_date_per_qrtr\n",
    "- pmnts_sum_per_year\n",
    "- pmnts_nmbr_per_year\n",
    "- incm_per_year\n",
    "- phone_number\n",
    "- email\n",
    "- postal_code"
   ]
  },
  {
   "cell_type": "code",
   "execution_count": 10,
   "metadata": {
    "ExecuteTime": {
     "end_time": "2024-04-13T12:05:47.589588Z",
     "start_time": "2024-04-13T12:05:47.211460Z"
    }
   },
   "outputs": [],
   "source": [
    "train_df.drop(columns=[\n",
    "    'postal_code',\n",
    "    'slctn_nmbr',\n",
    "    'client_id',\n",
    "    'npo_account_id',\n",
    "    'year',\n",
    "    'frst_pmnt_date',\n",
    "    'lst_pmnt_date_per_qrtr'\n",
    "], inplace=True)"
   ]
  },
  {
   "cell_type": "markdown",
   "metadata": {},
   "source": [
    "## Графики"
   ]
  },
  {
   "cell_type": "code",
   "execution_count": 11,
   "metadata": {
    "ExecuteTime": {
     "end_time": "2024-04-13T12:05:47.607769Z",
     "start_time": "2024-04-13T12:05:47.597764Z"
    }
   },
   "outputs": [],
   "source": [
    "import matplotlib.pyplot as plt\n",
    "import seaborn as sns\n",
    "\n",
    "%matplotlib inline"
   ]
  },
  {
   "cell_type": "markdown",
   "metadata": {},
   "source": [
    "Берем столбцы по типу данных"
   ]
  },
  {
   "cell_type": "code",
   "execution_count": 12,
   "metadata": {
    "ExecuteTime": {
     "end_time": "2024-04-13T12:05:48.396871Z",
     "start_time": "2024-04-13T12:05:47.612766Z"
    }
   },
   "outputs": [
    {
     "data": {
      "text/plain": [
       "['npo_accnts_nmbr',\n",
       " 'pmnts_type',\n",
       " 'gender',\n",
       " 'age',\n",
       " 'clnt_cprtn_time_d',\n",
       " 'actv_prd_d',\n",
       " 'lst_pmnt_rcnc_d',\n",
       " 'pmnts_nmbr',\n",
       " 'pmnts_nmbr_per_qrtr',\n",
       " 'pmnts_nmbr_per_year',\n",
       " 'phone_number',\n",
       " 'email',\n",
       " 'lk',\n",
       " 'assignee_npo',\n",
       " 'assignee_ops',\n",
       " 'citizen',\n",
       " 'fact_addrss',\n",
       " 'appl_mrkr',\n",
       " 'evry_qrtr_pmnt',\n",
       " 'churn']"
      ]
     },
     "metadata": {},
     "output_type": "display_data"
    },
    {
     "data": {
      "text/plain": [
       "['balance',\n",
       " 'oprtn_sum_per_qrtr',\n",
       " 'oprtn_sum_per_year',\n",
       " 'frst_pmnt',\n",
       " 'lst_pmnt',\n",
       " 'pmnts_sum',\n",
       " 'pmnts_sum_per_qrtr',\n",
       " 'pmnts_sum_per_year',\n",
       " 'incm_sum',\n",
       " 'incm_per_qrtr',\n",
       " 'incm_per_year',\n",
       " 'mgd_accum_period',\n",
       " 'mgd_payment_period',\n",
       " 'currency',\n",
       " 'GDP',\n",
       " 'inflation',\n",
       " 'unemployment']"
      ]
     },
     "metadata": {},
     "output_type": "display_data"
    },
    {
     "data": {
      "text/plain": [
       "['quarter', 'region']"
      ]
     },
     "metadata": {},
     "output_type": "display_data"
    }
   ],
   "source": [
    "int_cols = train_df.select_dtypes(int).columns.to_list()\n",
    "float_cols = train_df.select_dtypes(float).columns.to_list()\n",
    "cat_cols = train_df.select_dtypes(object).columns.to_list()\n",
    "display(int_cols, float_cols, cat_cols)"
   ]
  },
  {
   "cell_type": "markdown",
   "metadata": {},
   "source": [
    "Убираем выбросы"
   ]
  },
  {
   "cell_type": "code",
   "execution_count": 13,
   "metadata": {
    "ExecuteTime": {
     "end_time": "2024-04-13T12:05:55.318913Z",
     "start_time": "2024-04-13T12:05:48.397863Z"
    }
   },
   "outputs": [
    {
     "data": {
      "text/plain": [
       "(1008745, 3377386)"
      ]
     },
     "execution_count": 13,
     "metadata": {},
     "output_type": "execute_result"
    }
   ],
   "source": [
    "def selection_data(df: pd.DataFrame, cols: list[str], n=1.5):\n",
    "    for col in cols:\n",
    "        q1 = df[col].quantile(0.25)\n",
    "        q3 = df[col].quantile(0.75)\n",
    "        iqr = q3 - q1\n",
    "        lim_min = q1 - n * iqr\n",
    "        lim_max = q3 + n * iqr\n",
    "        \n",
    "        df = df.loc[(df[col] >= lim_min) & (df[col] <= lim_max)]\n",
    "    return df\n",
    "\n",
    "\n",
    "buffer = train_df.copy()\n",
    "buffer = selection_data(buffer, ['balance', 'oprtn_sum_per_qrtr',\n",
    "                                 'frst_pmnt', 'lst_pmnt',\n",
    "                                 'pmnts_sum', 'pmnts_sum_per_qrtr',\n",
    "                                 'incm_sum', 'incm_per_qrtr',\n",
    "                                 'pmnts_sum_per_year',\n",
    "                                 'oprtn_sum_per_year', 'incm_per_year',\n",
    "                                 'age'])\n",
    "len(buffer), len(train_df)"
   ]
  },
  {
   "cell_type": "markdown",
   "metadata": {},
   "source": [
    "## Преобразование данных"
   ]
  },
  {
   "cell_type": "code",
   "execution_count": 14,
   "metadata": {
    "ExecuteTime": {
     "end_time": "2024-04-13T12:06:57.157633Z",
     "start_time": "2024-04-13T12:06:56.811635Z"
    }
   },
   "outputs": [
    {
     "data": {
      "text/html": [
       "<div>\n",
       "<style scoped>\n",
       "    .dataframe tbody tr th:only-of-type {\n",
       "        vertical-align: middle;\n",
       "    }\n",
       "\n",
       "    .dataframe tbody tr th {\n",
       "        vertical-align: top;\n",
       "    }\n",
       "\n",
       "    .dataframe thead th {\n",
       "        text-align: right;\n",
       "    }\n",
       "</style>\n",
       "<table border=\"1\" class=\"dataframe\">\n",
       "  <thead>\n",
       "    <tr style=\"text-align: right;\">\n",
       "      <th></th>\n",
       "      <th>npo_accnts_nmbr</th>\n",
       "      <th>pmnts_type</th>\n",
       "      <th>quarter</th>\n",
       "      <th>gender</th>\n",
       "      <th>age</th>\n",
       "      <th>clnt_cprtn_time_d</th>\n",
       "      <th>actv_prd_d</th>\n",
       "      <th>lst_pmnt_rcnc_d</th>\n",
       "      <th>balance</th>\n",
       "      <th>oprtn_sum_per_qrtr</th>\n",
       "      <th>...</th>\n",
       "      <th>region</th>\n",
       "      <th>citizen</th>\n",
       "      <th>fact_addrss</th>\n",
       "      <th>appl_mrkr</th>\n",
       "      <th>evry_qrtr_pmnt</th>\n",
       "      <th>currency</th>\n",
       "      <th>GDP</th>\n",
       "      <th>inflation</th>\n",
       "      <th>unemployment</th>\n",
       "      <th>has_communication</th>\n",
       "    </tr>\n",
       "  </thead>\n",
       "  <tbody>\n",
       "    <tr>\n",
       "      <th>0</th>\n",
       "      <td>1</td>\n",
       "      <td>2</td>\n",
       "      <td>2017Q4</td>\n",
       "      <td>1</td>\n",
       "      <td>48</td>\n",
       "      <td>8091</td>\n",
       "      <td>0</td>\n",
       "      <td>6757</td>\n",
       "      <td>679.37</td>\n",
       "      <td>31.34</td>\n",
       "      <td>...</td>\n",
       "      <td>САМАРСКАЯ ОБЛ</td>\n",
       "      <td>-1</td>\n",
       "      <td>-1</td>\n",
       "      <td>0</td>\n",
       "      <td>0</td>\n",
       "      <td>58.402211</td>\n",
       "      <td>25621.2</td>\n",
       "      <td>2.583333</td>\n",
       "      <td>5.07</td>\n",
       "      <td>False</td>\n",
       "    </tr>\n",
       "    <tr>\n",
       "      <th>2</th>\n",
       "      <td>1</td>\n",
       "      <td>1</td>\n",
       "      <td>2010Q1</td>\n",
       "      <td>1</td>\n",
       "      <td>47</td>\n",
       "      <td>1163</td>\n",
       "      <td>1121</td>\n",
       "      <td>34</td>\n",
       "      <td>5569.85</td>\n",
       "      <td>463.41</td>\n",
       "      <td>...</td>\n",
       "      <td>ОРЛОВСКАЯ ОБЛ</td>\n",
       "      <td>1</td>\n",
       "      <td>1</td>\n",
       "      <td>0</td>\n",
       "      <td>1</td>\n",
       "      <td>29.842293</td>\n",
       "      <td>9995.8</td>\n",
       "      <td>7.220000</td>\n",
       "      <td>8.67</td>\n",
       "      <td>False</td>\n",
       "    </tr>\n",
       "    <tr>\n",
       "      <th>3</th>\n",
       "      <td>1</td>\n",
       "      <td>1</td>\n",
       "      <td>2005Q4</td>\n",
       "      <td>0</td>\n",
       "      <td>42</td>\n",
       "      <td>47</td>\n",
       "      <td>0</td>\n",
       "      <td>0</td>\n",
       "      <td>81.37</td>\n",
       "      <td>81.37</td>\n",
       "      <td>...</td>\n",
       "      <td>СВЕРДЛОВСКАЯ ОБЛ</td>\n",
       "      <td>1</td>\n",
       "      <td>1</td>\n",
       "      <td>0</td>\n",
       "      <td>1</td>\n",
       "      <td>28.713011</td>\n",
       "      <td>6228.1</td>\n",
       "      <td>11.286667</td>\n",
       "      <td>7.00</td>\n",
       "      <td>False</td>\n",
       "    </tr>\n",
       "    <tr>\n",
       "      <th>4</th>\n",
       "      <td>2</td>\n",
       "      <td>2</td>\n",
       "      <td>2007Q4</td>\n",
       "      <td>1</td>\n",
       "      <td>42</td>\n",
       "      <td>876</td>\n",
       "      <td>853</td>\n",
       "      <td>30</td>\n",
       "      <td>6937.65</td>\n",
       "      <td>794.36</td>\n",
       "      <td>...</td>\n",
       "      <td>ЛИПЕЦКАЯ ОБЛ</td>\n",
       "      <td>1</td>\n",
       "      <td>1</td>\n",
       "      <td>0</td>\n",
       "      <td>1</td>\n",
       "      <td>24.648172</td>\n",
       "      <td>9797.0</td>\n",
       "      <td>11.396667</td>\n",
       "      <td>5.80</td>\n",
       "      <td>False</td>\n",
       "    </tr>\n",
       "    <tr>\n",
       "      <th>9</th>\n",
       "      <td>2</td>\n",
       "      <td>1</td>\n",
       "      <td>2007Q3</td>\n",
       "      <td>0</td>\n",
       "      <td>25</td>\n",
       "      <td>175</td>\n",
       "      <td>153</td>\n",
       "      <td>28</td>\n",
       "      <td>1017.85</td>\n",
       "      <td>343.96</td>\n",
       "      <td>...</td>\n",
       "      <td>ЛИПЕЦКАЯ ОБЛ</td>\n",
       "      <td>1</td>\n",
       "      <td>1</td>\n",
       "      <td>0</td>\n",
       "      <td>1</td>\n",
       "      <td>25.503326</td>\n",
       "      <td>8902.7</td>\n",
       "      <td>8.880000</td>\n",
       "      <td>5.53</td>\n",
       "      <td>False</td>\n",
       "    </tr>\n",
       "  </tbody>\n",
       "</table>\n",
       "<p>5 rows × 37 columns</p>\n",
       "</div>"
      ],
      "text/plain": [
       "   npo_accnts_nmbr  pmnts_type quarter  gender  age  clnt_cprtn_time_d  \\\n",
       "0                1           2  2017Q4       1   48               8091   \n",
       "2                1           1  2010Q1       1   47               1163   \n",
       "3                1           1  2005Q4       0   42                 47   \n",
       "4                2           2  2007Q4       1   42                876   \n",
       "9                2           1  2007Q3       0   25                175   \n",
       "\n",
       "   actv_prd_d  lst_pmnt_rcnc_d  balance  oprtn_sum_per_qrtr  ...  \\\n",
       "0           0             6757   679.37               31.34  ...   \n",
       "2        1121               34  5569.85              463.41  ...   \n",
       "3           0                0    81.37               81.37  ...   \n",
       "4         853               30  6937.65              794.36  ...   \n",
       "9         153               28  1017.85              343.96  ...   \n",
       "\n",
       "             region  citizen  fact_addrss  appl_mrkr  evry_qrtr_pmnt  \\\n",
       "0     САМАРСКАЯ ОБЛ       -1           -1          0               0   \n",
       "2     ОРЛОВСКАЯ ОБЛ        1            1          0               1   \n",
       "3  СВЕРДЛОВСКАЯ ОБЛ        1            1          0               1   \n",
       "4      ЛИПЕЦКАЯ ОБЛ        1            1          0               1   \n",
       "9      ЛИПЕЦКАЯ ОБЛ        1            1          0               1   \n",
       "\n",
       "    currency      GDP  inflation  unemployment  has_communication  \n",
       "0  58.402211  25621.2   2.583333          5.07              False  \n",
       "2  29.842293   9995.8   7.220000          8.67              False  \n",
       "3  28.713011   6228.1  11.286667          7.00              False  \n",
       "4  24.648172   9797.0  11.396667          5.80              False  \n",
       "9  25.503326   8902.7   8.880000          5.53              False  \n",
       "\n",
       "[5 rows x 37 columns]"
      ]
     },
     "execution_count": 14,
     "metadata": {},
     "output_type": "execute_result"
    }
   ],
   "source": [
    "from sklearn.base import BaseEstimator, TransformerMixin\n",
    "\n",
    "class IntegerFeaturesTransformer(BaseEstimator, TransformerMixin):\n",
    "    dataframe: pd.DataFrame | None = None\n",
    "    \n",
    "    def fit(self, df: pd.DataFrame, y: None = None) -> BaseEstimator:\n",
    "        self.dataframe = df\n",
    "        # self.dataframe['actv_prd_d'] = (self.dataframe['actv_prd_d'] - self.dataframe['actv_prd_d'].mean()) / self.dataframe['actv_prd_d'].std()\n",
    "        # self.dataframe['lst_pmnt_rcnc_d'] = (self.dataframe['lst_pmnt_rcnc_d'] - self.dataframe['lst_pmnt_rcnc_d'].mean()) / self.dataframe['lst_pmnt_rcnc_d'].std()\n",
    "        self.dataframe['gender'] = self.dataframe['gender'].replace([1, -1], [1, 0])\n",
    "        self.dataframe['has_communication'] = (self.dataframe['email'] == 1) | (self.dataframe['phone_number'] == 1)\n",
    "        self.dataframe.drop(columns=['email', 'phone_number', 'churn'], inplace=True)\n",
    "        \n",
    "        return self\n",
    "    \n",
    "    def transform(self, X: None = None) -> pd.DataFrame:\n",
    "        return self.dataframe\n",
    "    \n",
    "\n",
    "trans = IntegerFeaturesTransformer()\n",
    "trans.fit(buffer.copy())\n",
    "trans.transform(buffer).head(5)"
   ]
  },
  {
   "cell_type": "code",
   "execution_count": 15,
   "metadata": {
    "ExecuteTime": {
     "end_time": "2024-04-13T12:37:35.165543Z",
     "start_time": "2024-04-13T12:37:32.423467Z"
    }
   },
   "outputs": [
    {
     "data": {
      "text/html": [
       "<div>\n",
       "<style scoped>\n",
       "    .dataframe tbody tr th:only-of-type {\n",
       "        vertical-align: middle;\n",
       "    }\n",
       "\n",
       "    .dataframe tbody tr th {\n",
       "        vertical-align: top;\n",
       "    }\n",
       "\n",
       "    .dataframe thead th {\n",
       "        text-align: right;\n",
       "    }\n",
       "</style>\n",
       "<table border=\"1\" class=\"dataframe\">\n",
       "  <thead>\n",
       "    <tr style=\"text-align: right;\">\n",
       "      <th></th>\n",
       "      <th>npo_accnts_nmbr</th>\n",
       "      <th>pmnts_type</th>\n",
       "      <th>quarter</th>\n",
       "      <th>gender</th>\n",
       "      <th>age</th>\n",
       "      <th>clnt_cprtn_time_d</th>\n",
       "      <th>actv_prd_d</th>\n",
       "      <th>lst_pmnt_rcnc_d</th>\n",
       "      <th>balance</th>\n",
       "      <th>oprtn_sum_per_qrtr</th>\n",
       "      <th>...</th>\n",
       "      <th>region</th>\n",
       "      <th>citizen</th>\n",
       "      <th>fact_addrss</th>\n",
       "      <th>appl_mrkr</th>\n",
       "      <th>evry_qrtr_pmnt</th>\n",
       "      <th>churn</th>\n",
       "      <th>currency</th>\n",
       "      <th>GDP</th>\n",
       "      <th>inflation</th>\n",
       "      <th>unemployment</th>\n",
       "    </tr>\n",
       "  </thead>\n",
       "  <tbody>\n",
       "    <tr>\n",
       "      <th>0</th>\n",
       "      <td>1</td>\n",
       "      <td>2</td>\n",
       "      <td>4</td>\n",
       "      <td>1</td>\n",
       "      <td>48</td>\n",
       "      <td>8091</td>\n",
       "      <td>0</td>\n",
       "      <td>6757</td>\n",
       "      <td>679.37</td>\n",
       "      <td>31.34</td>\n",
       "      <td>...</td>\n",
       "      <td>176</td>\n",
       "      <td>-1</td>\n",
       "      <td>-1</td>\n",
       "      <td>0</td>\n",
       "      <td>0</td>\n",
       "      <td>0</td>\n",
       "      <td>58.402211</td>\n",
       "      <td>25621.2</td>\n",
       "      <td>2.583333</td>\n",
       "      <td>5.07</td>\n",
       "    </tr>\n",
       "    <tr>\n",
       "      <th>2</th>\n",
       "      <td>1</td>\n",
       "      <td>1</td>\n",
       "      <td>1</td>\n",
       "      <td>1</td>\n",
       "      <td>47</td>\n",
       "      <td>1163</td>\n",
       "      <td>1121</td>\n",
       "      <td>34</td>\n",
       "      <td>5569.85</td>\n",
       "      <td>463.41</td>\n",
       "      <td>...</td>\n",
       "      <td>154</td>\n",
       "      <td>1</td>\n",
       "      <td>1</td>\n",
       "      <td>0</td>\n",
       "      <td>1</td>\n",
       "      <td>0</td>\n",
       "      <td>29.842293</td>\n",
       "      <td>9995.8</td>\n",
       "      <td>7.220000</td>\n",
       "      <td>8.67</td>\n",
       "    </tr>\n",
       "    <tr>\n",
       "      <th>3</th>\n",
       "      <td>1</td>\n",
       "      <td>1</td>\n",
       "      <td>4</td>\n",
       "      <td>-1</td>\n",
       "      <td>42</td>\n",
       "      <td>47</td>\n",
       "      <td>0</td>\n",
       "      <td>0</td>\n",
       "      <td>81.37</td>\n",
       "      <td>81.37</td>\n",
       "      <td>...</td>\n",
       "      <td>186</td>\n",
       "      <td>1</td>\n",
       "      <td>1</td>\n",
       "      <td>0</td>\n",
       "      <td>1</td>\n",
       "      <td>0</td>\n",
       "      <td>28.713011</td>\n",
       "      <td>6228.1</td>\n",
       "      <td>11.286667</td>\n",
       "      <td>7.00</td>\n",
       "    </tr>\n",
       "    <tr>\n",
       "      <th>4</th>\n",
       "      <td>2</td>\n",
       "      <td>2</td>\n",
       "      <td>4</td>\n",
       "      <td>1</td>\n",
       "      <td>42</td>\n",
       "      <td>876</td>\n",
       "      <td>853</td>\n",
       "      <td>30</td>\n",
       "      <td>6937.65</td>\n",
       "      <td>794.36</td>\n",
       "      <td>...</td>\n",
       "      <td>122</td>\n",
       "      <td>1</td>\n",
       "      <td>1</td>\n",
       "      <td>0</td>\n",
       "      <td>1</td>\n",
       "      <td>0</td>\n",
       "      <td>24.648172</td>\n",
       "      <td>9797.0</td>\n",
       "      <td>11.396667</td>\n",
       "      <td>5.80</td>\n",
       "    </tr>\n",
       "    <tr>\n",
       "      <th>9</th>\n",
       "      <td>2</td>\n",
       "      <td>1</td>\n",
       "      <td>3</td>\n",
       "      <td>-1</td>\n",
       "      <td>25</td>\n",
       "      <td>175</td>\n",
       "      <td>153</td>\n",
       "      <td>28</td>\n",
       "      <td>1017.85</td>\n",
       "      <td>343.96</td>\n",
       "      <td>...</td>\n",
       "      <td>122</td>\n",
       "      <td>1</td>\n",
       "      <td>1</td>\n",
       "      <td>0</td>\n",
       "      <td>1</td>\n",
       "      <td>0</td>\n",
       "      <td>25.503326</td>\n",
       "      <td>8902.7</td>\n",
       "      <td>8.880000</td>\n",
       "      <td>5.53</td>\n",
       "    </tr>\n",
       "    <tr>\n",
       "      <th>...</th>\n",
       "      <td>...</td>\n",
       "      <td>...</td>\n",
       "      <td>...</td>\n",
       "      <td>...</td>\n",
       "      <td>...</td>\n",
       "      <td>...</td>\n",
       "      <td>...</td>\n",
       "      <td>...</td>\n",
       "      <td>...</td>\n",
       "      <td>...</td>\n",
       "      <td>...</td>\n",
       "      <td>...</td>\n",
       "      <td>...</td>\n",
       "      <td>...</td>\n",
       "      <td>...</td>\n",
       "      <td>...</td>\n",
       "      <td>...</td>\n",
       "      <td>...</td>\n",
       "      <td>...</td>\n",
       "      <td>...</td>\n",
       "      <td>...</td>\n",
       "    </tr>\n",
       "    <tr>\n",
       "      <th>3589885</th>\n",
       "      <td>1</td>\n",
       "      <td>3</td>\n",
       "      <td>4</td>\n",
       "      <td>-1</td>\n",
       "      <td>52</td>\n",
       "      <td>857</td>\n",
       "      <td>0</td>\n",
       "      <td>855</td>\n",
       "      <td>910.85</td>\n",
       "      <td>47.33</td>\n",
       "      <td>...</td>\n",
       "      <td>182</td>\n",
       "      <td>1</td>\n",
       "      <td>1</td>\n",
       "      <td>0</td>\n",
       "      <td>0</td>\n",
       "      <td>0</td>\n",
       "      <td>72.654305</td>\n",
       "      <td>40111.5</td>\n",
       "      <td>8.310000</td>\n",
       "      <td>4.30</td>\n",
       "    </tr>\n",
       "    <tr>\n",
       "      <th>3589889</th>\n",
       "      <td>1</td>\n",
       "      <td>3</td>\n",
       "      <td>3</td>\n",
       "      <td>1</td>\n",
       "      <td>38</td>\n",
       "      <td>2638</td>\n",
       "      <td>2614</td>\n",
       "      <td>28</td>\n",
       "      <td>30285.05</td>\n",
       "      <td>975.61</td>\n",
       "      <td>...</td>\n",
       "      <td>38</td>\n",
       "      <td>-1</td>\n",
       "      <td>1</td>\n",
       "      <td>0</td>\n",
       "      <td>1</td>\n",
       "      <td>0</td>\n",
       "      <td>65.551482</td>\n",
       "      <td>27196.8</td>\n",
       "      <td>2.986667</td>\n",
       "      <td>4.60</td>\n",
       "    </tr>\n",
       "    <tr>\n",
       "      <th>3589906</th>\n",
       "      <td>2</td>\n",
       "      <td>2</td>\n",
       "      <td>2</td>\n",
       "      <td>1</td>\n",
       "      <td>27</td>\n",
       "      <td>198</td>\n",
       "      <td>183</td>\n",
       "      <td>30</td>\n",
       "      <td>552.28</td>\n",
       "      <td>236.59</td>\n",
       "      <td>...</td>\n",
       "      <td>237</td>\n",
       "      <td>-1</td>\n",
       "      <td>-1</td>\n",
       "      <td>0</td>\n",
       "      <td>0</td>\n",
       "      <td>0</td>\n",
       "      <td>28.005323</td>\n",
       "      <td>14434.8</td>\n",
       "      <td>9.540000</td>\n",
       "      <td>6.43</td>\n",
       "    </tr>\n",
       "    <tr>\n",
       "      <th>3589910</th>\n",
       "      <td>1</td>\n",
       "      <td>2</td>\n",
       "      <td>4</td>\n",
       "      <td>1</td>\n",
       "      <td>31</td>\n",
       "      <td>1616</td>\n",
       "      <td>0</td>\n",
       "      <td>731</td>\n",
       "      <td>3080.98</td>\n",
       "      <td>118.50</td>\n",
       "      <td>...</td>\n",
       "      <td>38</td>\n",
       "      <td>1</td>\n",
       "      <td>1</td>\n",
       "      <td>0</td>\n",
       "      <td>0</td>\n",
       "      <td>0</td>\n",
       "      <td>24.648172</td>\n",
       "      <td>9797.0</td>\n",
       "      <td>11.396667</td>\n",
       "      <td>5.80</td>\n",
       "    </tr>\n",
       "    <tr>\n",
       "      <th>3589917</th>\n",
       "      <td>1</td>\n",
       "      <td>2</td>\n",
       "      <td>1</td>\n",
       "      <td>-1</td>\n",
       "      <td>16</td>\n",
       "      <td>4607</td>\n",
       "      <td>0</td>\n",
       "      <td>4607</td>\n",
       "      <td>225.11</td>\n",
       "      <td>13.93</td>\n",
       "      <td>...</td>\n",
       "      <td>197</td>\n",
       "      <td>-1</td>\n",
       "      <td>-1</td>\n",
       "      <td>0</td>\n",
       "      <td>0</td>\n",
       "      <td>0</td>\n",
       "      <td>29.842293</td>\n",
       "      <td>9995.8</td>\n",
       "      <td>7.220000</td>\n",
       "      <td>8.67</td>\n",
       "    </tr>\n",
       "  </tbody>\n",
       "</table>\n",
       "<p>1008745 rows × 39 columns</p>\n",
       "</div>"
      ],
      "text/plain": [
       "         npo_accnts_nmbr  pmnts_type quarter  gender  age  clnt_cprtn_time_d  \\\n",
       "0                      1           2       4       1   48               8091   \n",
       "2                      1           1       1       1   47               1163   \n",
       "3                      1           1       4      -1   42                 47   \n",
       "4                      2           2       4       1   42                876   \n",
       "9                      2           1       3      -1   25                175   \n",
       "...                  ...         ...     ...     ...  ...                ...   \n",
       "3589885                1           3       4      -1   52                857   \n",
       "3589889                1           3       3       1   38               2638   \n",
       "3589906                2           2       2       1   27                198   \n",
       "3589910                1           2       4       1   31               1616   \n",
       "3589917                1           2       1      -1   16               4607   \n",
       "\n",
       "         actv_prd_d  lst_pmnt_rcnc_d   balance  oprtn_sum_per_qrtr  ...  \\\n",
       "0                 0             6757    679.37               31.34  ...   \n",
       "2              1121               34   5569.85              463.41  ...   \n",
       "3                 0                0     81.37               81.37  ...   \n",
       "4               853               30   6937.65              794.36  ...   \n",
       "9               153               28   1017.85              343.96  ...   \n",
       "...             ...              ...       ...                 ...  ...   \n",
       "3589885           0              855    910.85               47.33  ...   \n",
       "3589889        2614               28  30285.05              975.61  ...   \n",
       "3589906         183               30    552.28              236.59  ...   \n",
       "3589910           0              731   3080.98              118.50  ...   \n",
       "3589917           0             4607    225.11               13.93  ...   \n",
       "\n",
       "         region  citizen  fact_addrss  appl_mrkr  evry_qrtr_pmnt  churn  \\\n",
       "0           176       -1           -1          0               0      0   \n",
       "2           154        1            1          0               1      0   \n",
       "3           186        1            1          0               1      0   \n",
       "4           122        1            1          0               1      0   \n",
       "9           122        1            1          0               1      0   \n",
       "...         ...      ...          ...        ...             ...    ...   \n",
       "3589885     182        1            1          0               0      0   \n",
       "3589889      38       -1            1          0               1      0   \n",
       "3589906     237       -1           -1          0               0      0   \n",
       "3589910      38        1            1          0               0      0   \n",
       "3589917     197       -1           -1          0               0      0   \n",
       "\n",
       "          currency      GDP  inflation  unemployment  \n",
       "0        58.402211  25621.2   2.583333          5.07  \n",
       "2        29.842293   9995.8   7.220000          8.67  \n",
       "3        28.713011   6228.1  11.286667          7.00  \n",
       "4        24.648172   9797.0  11.396667          5.80  \n",
       "9        25.503326   8902.7   8.880000          5.53  \n",
       "...            ...      ...        ...           ...  \n",
       "3589885  72.654305  40111.5   8.310000          4.30  \n",
       "3589889  65.551482  27196.8   2.986667          4.60  \n",
       "3589906  28.005323  14434.8   9.540000          6.43  \n",
       "3589910  24.648172   9797.0  11.396667          5.80  \n",
       "3589917  29.842293   9995.8   7.220000          8.67  \n",
       "\n",
       "[1008745 rows x 39 columns]"
      ]
     },
     "execution_count": 15,
     "metadata": {},
     "output_type": "execute_result"
    }
   ],
   "source": [
    "from sklearn.preprocessing import LabelEncoder\n",
    "\n",
    "\n",
    "class CatFeaturesTransformer(BaseEstimator, TransformerMixin):\n",
    "    dataframe: pd.DataFrame | None = None\n",
    "    \n",
    "    def fit(self, X: pd.DataFrame) -> BaseEstimator:\n",
    "        self.dataframe = X\n",
    "        self.dataframe['quarter'] = self.dataframe['quarter'].replace(r'\\d{4}Q', '', regex=True)\n",
    "        scaler1 = LabelEncoder().fit(self.dataframe['region'])\n",
    "        self.dataframe['region'] = scaler1.transform(self.dataframe['region'])\n",
    "        return self\n",
    "    \n",
    "    def transform(self, X: None = None) -> np.ndarray:\n",
    "        return self.dataframe\n",
    "\n",
    "\n",
    "trans = CatFeaturesTransformer()\n",
    "trans.fit(buffer.copy())\n",
    "trans.transform(buffer)"
   ]
  },
  {
   "cell_type": "code",
   "execution_count": 16,
   "metadata": {
    "ExecuteTime": {
     "end_time": "2024-04-13T12:37:41.944267Z",
     "start_time": "2024-04-13T12:37:36.880969Z"
    }
   },
   "outputs": [],
   "source": [
    "from sklearn.compose import ColumnTransformer\n",
    "from sklearn.preprocessing import OneHotEncoder\n",
    "\n",
    "\n",
    "offices = [\"МОСКВА Г\", \"САНКТ-ПЕТЕРБУРГ Г\", \"ВОЛОГОДСКАЯ ОБЛ\", \"ОРЛОВСКАЯ ОБЛ\", \"ЛИПЕЦКАЯ ОБЛ\", \"РОСТОВСКАЯ ОБЛ\", \"НИЖЕГОРОДСКАЯ ОБЛ\", \"ПЕРМСКИЙ КРАЙ\", \"ЕКАТЕРИНБУРГ Г\", \"ЧЕЛЯБИНСК Г\", \"НОВОСИБИРСК Г\", \"ИРКУТСКАЯ ОБЛ\"]\n",
    "buffer['has_close_office'] = buffer['region'].copy()\n",
    "buffer['has_close_office'] = buffer['has_close_office'].apply(lambda x: x in offices)\n",
    "\n",
    "transformer = ColumnTransformer(\n",
    "    transformers=(\n",
    "        ('int_trans', IntegerFeaturesTransformer(), int_cols),\n",
    "        ('cat_trans', CatFeaturesTransformer(), cat_cols),\n",
    "        ('float', 'passthrough', float_cols)\n",
    "    )\n",
    ")\n",
    "\n",
    "transformer.fit(buffer.copy())\n",
    "\n",
    "X, y = transformer.transform(buffer).astype(np.float32), buffer['churn'].to_numpy(dtype=np.int16)"
   ]
  },
  {
   "cell_type": "code",
   "execution_count": 17,
   "metadata": {
    "ExecuteTime": {
     "end_time": "2024-04-13T12:37:43.450511Z",
     "start_time": "2024-04-13T12:37:43.444511Z"
    }
   },
   "outputs": [
    {
     "data": {
      "text/plain": [
       "((1008745, 37), (1008745,))"
      ]
     },
     "execution_count": 17,
     "metadata": {},
     "output_type": "execute_result"
    }
   ],
   "source": [
    "X.shape, y.shape"
   ]
  },
  {
   "cell_type": "markdown",
   "metadata": {},
   "source": [
    "# Оптимизация гиперпараметров"
   ]
  },
  {
   "cell_type": "code",
   "execution_count": 18,
   "metadata": {
    "ExecuteTime": {
     "end_time": "2024-04-13T12:38:30.478438Z",
     "start_time": "2024-04-13T12:38:29.953579Z"
    }
   },
   "outputs": [],
   "source": [
    "from lightgbm import LGBMClassifier\n",
    "from catboost import CatBoostClassifier\n",
    "from xgboost import XGBClassifier"
   ]
  },
  {
   "cell_type": "code",
   "execution_count": 83,
   "metadata": {},
   "outputs": [],
   "source": [
    "import optuna\n",
    "from catboost import Pool\n",
    "from sklearn.model_selection import train_test_split\n",
    "from sklearn.metrics import f1_score\n",
    "\n",
    "\n",
    "def cat_objective(trial):\n",
    "    param = {\n",
    "        \"objective\": \"Logloss\",\n",
    "        # \"colsample_bylevel\": trial.suggest_float(\"colsample_bylevel\", 0.01, 0.1),\n",
    "        \"depth\": trial.suggest_int(\"depth\", 3, 12),\n",
    "        \"boosting_type\": trial.suggest_categorical(\"boosting_type\", [\"Ordered\", \"Plain\"]),\n",
    "        \"bootstrap_type\": trial.suggest_categorical(\n",
    "        \"bootstrap_type\", [\"Bayesian\", \"Bernoulli\", \"MVS\"]\n",
    "        )\n",
    "    }\n",
    "    clf = CatBoostClassifier(**param, random_state=seed, task_type='GPU')\n",
    "    \n",
    "    X_train, X_test, y_train, y_test = train_test_split(X, y, \n",
    "                                                        test_size=0.3,\n",
    "                                                        shuffle=True,\n",
    "                                                        random_state=seed)\n",
    "    \n",
    "    train_data = Pool(data=X_train, label=y_train)\n",
    "    test_data = Pool(data=X_test, label=y_test)\n",
    "    clf.fit(train_data, verbose=False)\n",
    "    y_pred = clf.predict(test_data)\n",
    "    \n",
    "    score = f1_score(y_test, y_pred)\n",
    "    return score\n",
    "\n",
    "\n",
    "def xgb_objective(trial):\n",
    "    params = {\n",
    "        'n_estimators': trial.suggest_int('n_estimators', 150, 400, step=10),\n",
    "        'max_depth':trial.suggest_int('max_depth', 3, 9),\n",
    "        'min_child_weight': trial.suggest_int('min_child_weight', 7, 8),\n",
    "        'learning_rate': trial.suggest_float('learning_rate', 1e-4, 1e-1, log=True), \n",
    "        'subsample': trial.suggest_float('subsample', 0.7, 1.0),\n",
    "        'colsample_bytree': trial.suggest_float('colsample_bytree', 0.1, 1.0),\n",
    "        'reg_alpha': trial.suggest_float('reg_alpha', 1e-2, 10.),\n",
    "        'reg_lambda': trial.suggest_float('reg_lambda', 1e-2, 10.),\n",
    "        'gamma': trial.suggest_float('gamma', 0.7, 1.0, step=0.1),\n",
    "        'device': 'cuda'\n",
    "    }\n",
    "    clf = XGBClassifier(**params, random_state=seed)\n",
    "    \n",
    "    X_train, X_test, y_train, y_test = train_test_split(X, y, \n",
    "                                                        test_size=0.3,\n",
    "                                                        shuffle=True,\n",
    "                                                        random_state=seed)\n",
    "    \n",
    "    clf.fit(X_train, y_train)\n",
    "    y_pred = clf.predict(X_test)\n",
    "    \n",
    "    score = f1_score(y_test, y_pred)\n",
    "    return score\n",
    "\n",
    "\n",
    "def lgbm_objective(trial):\n",
    "    params = {\n",
    "        'metric': 'f1_score',\n",
    "        'n_estimators': trial.suggest_int('n_estimators', 150, 400, step=10),\n",
    "        'reg_alpha': trial.suggest_float('reg_alpha', 1e-3, 10.0, log=True),\n",
    "        'reg_lambda': trial.suggest_float('reg_lambda', 1e-3, 10.0, log=True),\n",
    "        'colsample_bytree': trial.suggest_categorical('colsample_bytree', [0.3,0.4,0.5,0.6,0.7,0.8,0.9, 1.0]),\n",
    "        'subsample': trial.suggest_categorical('subsample', [0.4,0.5,0.6,0.7,0.8,1.0]),\n",
    "        'learning_rate': trial.suggest_categorical('learning_rate', [0.006,0.008,0.01,0.014,0.017,0.02]),\n",
    "        'max_depth': trial.suggest_int('max_depth', 12, 20),\n",
    "        'num_leaves' : trial.suggest_int('num_leaves', 1, 1000),\n",
    "        'min_child_samples': trial.suggest_int('min_child_samples', 1, 300),\n",
    "        'cat_smooth' : trial.suggest_int('min_data_per_groups', 1, 100)\n",
    "    }\n",
    "    clf = LGBMClassifier(**params, random_state=seed, verbosity=-1)\n",
    "    \n",
    "    X_train, X_test, y_train, y_test = train_test_split(X, y, \n",
    "                                                        test_size=0.3,\n",
    "                                                        shuffle=True,\n",
    "                                                        random_state=seed)\n",
    "    \n",
    "    clf.fit(X_train, y_train)\n",
    "    y_pred = clf.predict(X_test)\n",
    "    \n",
    "    score = f1_score(y_test, y_pred)\n",
    "    return score\n",
    "\n",
    "\n",
    "objectives = [\n",
    "    # ('xgb', xgb_objective),\n",
    "    # ('cat', cat_objective),\n",
    "    ('lgbm', lgbm_objective)\n",
    "]"
   ]
  },
  {
   "cell_type": "code",
   "execution_count": 84,
   "metadata": {},
   "outputs": [
    {
     "name": "stderr",
     "output_type": "stream",
     "text": [
      "/var/folders/1n/ncv2knx92312c9fjnfycb5k80000gn/T/ipykernel_68547/1649912616.py:4: ExperimentalWarning: VSBXCrossover is experimental (supported from v3.0.0). The interface can change in the future.\n",
      "  crossover=optuna.samplers.nsgaii.VSBXCrossover()\n",
      "[I 2024-04-13 21:08:02,129] A new study created in memory with name: lgbm\n",
      "[W 2024-04-13 21:08:08,948] Trial 0 failed with parameters: {'n_estimators': 190, 'reg_alpha': 0.540103369645649, 'reg_lambda': 0.22841627018027605, 'colsample_bytree': 0.5, 'subsample': 0.8, 'learning_rate': 0.014, 'max_depth': 14, 'num_leaves': 488, 'min_child_samples': 205, 'min_data_per_groups': 31} because of the following error: KeyboardInterrupt().\n",
      "Traceback (most recent call last):\n",
      "  File \"/Users/danila/Documents/Python Projects/AI Hackathon 12.04.2024/AI-Hackathon-SFD/.venv/lib/python3.11/site-packages/optuna/study/_optimize.py\", line 196, in _run_trial\n",
      "    value_or_values = func(trial)\n",
      "                      ^^^^^^^^^^^\n",
      "  File \"/var/folders/1n/ncv2knx92312c9fjnfycb5k80000gn/T/ipykernel_68547/1848864253.py\", line 79, in lgbm_objective\n",
      "    clf.fit(X_train, y_train)\n",
      "  File \"/Users/danila/Documents/Python Projects/AI Hackathon 12.04.2024/AI-Hackathon-SFD/.venv/lib/python3.11/site-packages/lightgbm/sklearn.py\", line 1187, in fit\n",
      "    super().fit(\n",
      "  File \"/Users/danila/Documents/Python Projects/AI Hackathon 12.04.2024/AI-Hackathon-SFD/.venv/lib/python3.11/site-packages/lightgbm/sklearn.py\", line 885, in fit\n",
      "    self._Booster = train(\n",
      "                    ^^^^^^\n",
      "  File \"/Users/danila/Documents/Python Projects/AI Hackathon 12.04.2024/AI-Hackathon-SFD/.venv/lib/python3.11/site-packages/lightgbm/engine.py\", line 276, in train\n",
      "    booster.update(fobj=fobj)\n",
      "  File \"/Users/danila/Documents/Python Projects/AI Hackathon 12.04.2024/AI-Hackathon-SFD/.venv/lib/python3.11/site-packages/lightgbm/basic.py\", line 3891, in update\n",
      "    _safe_call(_LIB.LGBM_BoosterUpdateOneIter(\n",
      "               ^^^^^^^^^^^^^^^^^^^^^^^^^^^^^^^\n",
      "KeyboardInterrupt\n",
      "[W 2024-04-13 21:08:08,949] Trial 0 failed with value None.\n"
     ]
    },
    {
     "ename": "KeyboardInterrupt",
     "evalue": "",
     "output_type": "error",
     "traceback": [
      "\u001b[0;31m---------------------------------------------------------------------------\u001b[0m",
      "\u001b[0;31mKeyboardInterrupt\u001b[0m                         Traceback (most recent call last)",
      "Cell \u001b[0;32mIn[84], line 11\u001b[0m\n\u001b[1;32m      9\u001b[0m \u001b[38;5;28;01mfor\u001b[39;00m i, (name, objective) \u001b[38;5;129;01min\u001b[39;00m \u001b[38;5;28menumerate\u001b[39m(objectives):\n\u001b[1;32m     10\u001b[0m     studies[i] \u001b[38;5;241m=\u001b[39m optuna\u001b[38;5;241m.\u001b[39mcreate_study(study_name\u001b[38;5;241m=\u001b[39mname, direction\u001b[38;5;241m=\u001b[39m\u001b[38;5;124m'\u001b[39m\u001b[38;5;124mmaximize\u001b[39m\u001b[38;5;124m'\u001b[39m, sampler\u001b[38;5;241m=\u001b[39mga_sampler)\n\u001b[0;32m---> 11\u001b[0m     \u001b[43mstudies\u001b[49m\u001b[43m[\u001b[49m\u001b[43mi\u001b[49m\u001b[43m]\u001b[49m\u001b[38;5;241;43m.\u001b[39;49m\u001b[43moptimize\u001b[49m\u001b[43m(\u001b[49m\u001b[43mobjective\u001b[49m\u001b[43m,\u001b[49m\u001b[43m \u001b[49m\u001b[43mn_trials\u001b[49m\u001b[38;5;241;43m=\u001b[39;49m\u001b[38;5;241;43m150\u001b[39;49m\u001b[43m)\u001b[49m\n",
      "File \u001b[0;32m~/Documents/Python Projects/AI Hackathon 12.04.2024/AI-Hackathon-SFD/.venv/lib/python3.11/site-packages/optuna/study/study.py:451\u001b[0m, in \u001b[0;36mStudy.optimize\u001b[0;34m(self, func, n_trials, timeout, n_jobs, catch, callbacks, gc_after_trial, show_progress_bar)\u001b[0m\n\u001b[1;32m    348\u001b[0m \u001b[38;5;28;01mdef\u001b[39;00m \u001b[38;5;21moptimize\u001b[39m(\n\u001b[1;32m    349\u001b[0m     \u001b[38;5;28mself\u001b[39m,\n\u001b[1;32m    350\u001b[0m     func: ObjectiveFuncType,\n\u001b[0;32m   (...)\u001b[0m\n\u001b[1;32m    357\u001b[0m     show_progress_bar: \u001b[38;5;28mbool\u001b[39m \u001b[38;5;241m=\u001b[39m \u001b[38;5;28;01mFalse\u001b[39;00m,\n\u001b[1;32m    358\u001b[0m ) \u001b[38;5;241m-\u001b[39m\u001b[38;5;241m>\u001b[39m \u001b[38;5;28;01mNone\u001b[39;00m:\n\u001b[1;32m    359\u001b[0m \u001b[38;5;250m    \u001b[39m\u001b[38;5;124;03m\"\"\"Optimize an objective function.\u001b[39;00m\n\u001b[1;32m    360\u001b[0m \n\u001b[1;32m    361\u001b[0m \u001b[38;5;124;03m    Optimization is done by choosing a suitable set of hyperparameter values from a given\u001b[39;00m\n\u001b[0;32m   (...)\u001b[0m\n\u001b[1;32m    449\u001b[0m \u001b[38;5;124;03m            If nested invocation of this method occurs.\u001b[39;00m\n\u001b[1;32m    450\u001b[0m \u001b[38;5;124;03m    \"\"\"\u001b[39;00m\n\u001b[0;32m--> 451\u001b[0m     \u001b[43m_optimize\u001b[49m\u001b[43m(\u001b[49m\n\u001b[1;32m    452\u001b[0m \u001b[43m        \u001b[49m\u001b[43mstudy\u001b[49m\u001b[38;5;241;43m=\u001b[39;49m\u001b[38;5;28;43mself\u001b[39;49m\u001b[43m,\u001b[49m\n\u001b[1;32m    453\u001b[0m \u001b[43m        \u001b[49m\u001b[43mfunc\u001b[49m\u001b[38;5;241;43m=\u001b[39;49m\u001b[43mfunc\u001b[49m\u001b[43m,\u001b[49m\n\u001b[1;32m    454\u001b[0m \u001b[43m        \u001b[49m\u001b[43mn_trials\u001b[49m\u001b[38;5;241;43m=\u001b[39;49m\u001b[43mn_trials\u001b[49m\u001b[43m,\u001b[49m\n\u001b[1;32m    455\u001b[0m \u001b[43m        \u001b[49m\u001b[43mtimeout\u001b[49m\u001b[38;5;241;43m=\u001b[39;49m\u001b[43mtimeout\u001b[49m\u001b[43m,\u001b[49m\n\u001b[1;32m    456\u001b[0m \u001b[43m        \u001b[49m\u001b[43mn_jobs\u001b[49m\u001b[38;5;241;43m=\u001b[39;49m\u001b[43mn_jobs\u001b[49m\u001b[43m,\u001b[49m\n\u001b[1;32m    457\u001b[0m \u001b[43m        \u001b[49m\u001b[43mcatch\u001b[49m\u001b[38;5;241;43m=\u001b[39;49m\u001b[38;5;28;43mtuple\u001b[39;49m\u001b[43m(\u001b[49m\u001b[43mcatch\u001b[49m\u001b[43m)\u001b[49m\u001b[43m \u001b[49m\u001b[38;5;28;43;01mif\u001b[39;49;00m\u001b[43m \u001b[49m\u001b[38;5;28;43misinstance\u001b[39;49m\u001b[43m(\u001b[49m\u001b[43mcatch\u001b[49m\u001b[43m,\u001b[49m\u001b[43m \u001b[49m\u001b[43mIterable\u001b[49m\u001b[43m)\u001b[49m\u001b[43m \u001b[49m\u001b[38;5;28;43;01melse\u001b[39;49;00m\u001b[43m \u001b[49m\u001b[43m(\u001b[49m\u001b[43mcatch\u001b[49m\u001b[43m,\u001b[49m\u001b[43m)\u001b[49m\u001b[43m,\u001b[49m\n\u001b[1;32m    458\u001b[0m \u001b[43m        \u001b[49m\u001b[43mcallbacks\u001b[49m\u001b[38;5;241;43m=\u001b[39;49m\u001b[43mcallbacks\u001b[49m\u001b[43m,\u001b[49m\n\u001b[1;32m    459\u001b[0m \u001b[43m        \u001b[49m\u001b[43mgc_after_trial\u001b[49m\u001b[38;5;241;43m=\u001b[39;49m\u001b[43mgc_after_trial\u001b[49m\u001b[43m,\u001b[49m\n\u001b[1;32m    460\u001b[0m \u001b[43m        \u001b[49m\u001b[43mshow_progress_bar\u001b[49m\u001b[38;5;241;43m=\u001b[39;49m\u001b[43mshow_progress_bar\u001b[49m\u001b[43m,\u001b[49m\n\u001b[1;32m    461\u001b[0m \u001b[43m    \u001b[49m\u001b[43m)\u001b[49m\n",
      "File \u001b[0;32m~/Documents/Python Projects/AI Hackathon 12.04.2024/AI-Hackathon-SFD/.venv/lib/python3.11/site-packages/optuna/study/_optimize.py:62\u001b[0m, in \u001b[0;36m_optimize\u001b[0;34m(study, func, n_trials, timeout, n_jobs, catch, callbacks, gc_after_trial, show_progress_bar)\u001b[0m\n\u001b[1;32m     60\u001b[0m \u001b[38;5;28;01mtry\u001b[39;00m:\n\u001b[1;32m     61\u001b[0m     \u001b[38;5;28;01mif\u001b[39;00m n_jobs \u001b[38;5;241m==\u001b[39m \u001b[38;5;241m1\u001b[39m:\n\u001b[0;32m---> 62\u001b[0m         \u001b[43m_optimize_sequential\u001b[49m\u001b[43m(\u001b[49m\n\u001b[1;32m     63\u001b[0m \u001b[43m            \u001b[49m\u001b[43mstudy\u001b[49m\u001b[43m,\u001b[49m\n\u001b[1;32m     64\u001b[0m \u001b[43m            \u001b[49m\u001b[43mfunc\u001b[49m\u001b[43m,\u001b[49m\n\u001b[1;32m     65\u001b[0m \u001b[43m            \u001b[49m\u001b[43mn_trials\u001b[49m\u001b[43m,\u001b[49m\n\u001b[1;32m     66\u001b[0m \u001b[43m            \u001b[49m\u001b[43mtimeout\u001b[49m\u001b[43m,\u001b[49m\n\u001b[1;32m     67\u001b[0m \u001b[43m            \u001b[49m\u001b[43mcatch\u001b[49m\u001b[43m,\u001b[49m\n\u001b[1;32m     68\u001b[0m \u001b[43m            \u001b[49m\u001b[43mcallbacks\u001b[49m\u001b[43m,\u001b[49m\n\u001b[1;32m     69\u001b[0m \u001b[43m            \u001b[49m\u001b[43mgc_after_trial\u001b[49m\u001b[43m,\u001b[49m\n\u001b[1;32m     70\u001b[0m \u001b[43m            \u001b[49m\u001b[43mreseed_sampler_rng\u001b[49m\u001b[38;5;241;43m=\u001b[39;49m\u001b[38;5;28;43;01mFalse\u001b[39;49;00m\u001b[43m,\u001b[49m\n\u001b[1;32m     71\u001b[0m \u001b[43m            \u001b[49m\u001b[43mtime_start\u001b[49m\u001b[38;5;241;43m=\u001b[39;49m\u001b[38;5;28;43;01mNone\u001b[39;49;00m\u001b[43m,\u001b[49m\n\u001b[1;32m     72\u001b[0m \u001b[43m            \u001b[49m\u001b[43mprogress_bar\u001b[49m\u001b[38;5;241;43m=\u001b[39;49m\u001b[43mprogress_bar\u001b[49m\u001b[43m,\u001b[49m\n\u001b[1;32m     73\u001b[0m \u001b[43m        \u001b[49m\u001b[43m)\u001b[49m\n\u001b[1;32m     74\u001b[0m     \u001b[38;5;28;01melse\u001b[39;00m:\n\u001b[1;32m     75\u001b[0m         \u001b[38;5;28;01mif\u001b[39;00m n_jobs \u001b[38;5;241m==\u001b[39m \u001b[38;5;241m-\u001b[39m\u001b[38;5;241m1\u001b[39m:\n",
      "File \u001b[0;32m~/Documents/Python Projects/AI Hackathon 12.04.2024/AI-Hackathon-SFD/.venv/lib/python3.11/site-packages/optuna/study/_optimize.py:159\u001b[0m, in \u001b[0;36m_optimize_sequential\u001b[0;34m(study, func, n_trials, timeout, catch, callbacks, gc_after_trial, reseed_sampler_rng, time_start, progress_bar)\u001b[0m\n\u001b[1;32m    156\u001b[0m         \u001b[38;5;28;01mbreak\u001b[39;00m\n\u001b[1;32m    158\u001b[0m \u001b[38;5;28;01mtry\u001b[39;00m:\n\u001b[0;32m--> 159\u001b[0m     frozen_trial \u001b[38;5;241m=\u001b[39m \u001b[43m_run_trial\u001b[49m\u001b[43m(\u001b[49m\u001b[43mstudy\u001b[49m\u001b[43m,\u001b[49m\u001b[43m \u001b[49m\u001b[43mfunc\u001b[49m\u001b[43m,\u001b[49m\u001b[43m \u001b[49m\u001b[43mcatch\u001b[49m\u001b[43m)\u001b[49m\n\u001b[1;32m    160\u001b[0m \u001b[38;5;28;01mfinally\u001b[39;00m:\n\u001b[1;32m    161\u001b[0m     \u001b[38;5;66;03m# The following line mitigates memory problems that can be occurred in some\u001b[39;00m\n\u001b[1;32m    162\u001b[0m     \u001b[38;5;66;03m# environments (e.g., services that use computing containers such as GitHub Actions).\u001b[39;00m\n\u001b[1;32m    163\u001b[0m     \u001b[38;5;66;03m# Please refer to the following PR for further details:\u001b[39;00m\n\u001b[1;32m    164\u001b[0m     \u001b[38;5;66;03m# https://github.com/optuna/optuna/pull/325.\u001b[39;00m\n\u001b[1;32m    165\u001b[0m     \u001b[38;5;28;01mif\u001b[39;00m gc_after_trial:\n",
      "File \u001b[0;32m~/Documents/Python Projects/AI Hackathon 12.04.2024/AI-Hackathon-SFD/.venv/lib/python3.11/site-packages/optuna/study/_optimize.py:247\u001b[0m, in \u001b[0;36m_run_trial\u001b[0;34m(study, func, catch)\u001b[0m\n\u001b[1;32m    240\u001b[0m         \u001b[38;5;28;01massert\u001b[39;00m \u001b[38;5;28;01mFalse\u001b[39;00m, \u001b[38;5;124m\"\u001b[39m\u001b[38;5;124mShould not reach.\u001b[39m\u001b[38;5;124m\"\u001b[39m\n\u001b[1;32m    242\u001b[0m \u001b[38;5;28;01mif\u001b[39;00m (\n\u001b[1;32m    243\u001b[0m     frozen_trial\u001b[38;5;241m.\u001b[39mstate \u001b[38;5;241m==\u001b[39m TrialState\u001b[38;5;241m.\u001b[39mFAIL\n\u001b[1;32m    244\u001b[0m     \u001b[38;5;129;01mand\u001b[39;00m func_err \u001b[38;5;129;01mis\u001b[39;00m \u001b[38;5;129;01mnot\u001b[39;00m \u001b[38;5;28;01mNone\u001b[39;00m\n\u001b[1;32m    245\u001b[0m     \u001b[38;5;129;01mand\u001b[39;00m \u001b[38;5;129;01mnot\u001b[39;00m \u001b[38;5;28misinstance\u001b[39m(func_err, catch)\n\u001b[1;32m    246\u001b[0m ):\n\u001b[0;32m--> 247\u001b[0m     \u001b[38;5;28;01mraise\u001b[39;00m func_err\n\u001b[1;32m    248\u001b[0m \u001b[38;5;28;01mreturn\u001b[39;00m frozen_trial\n",
      "File \u001b[0;32m~/Documents/Python Projects/AI Hackathon 12.04.2024/AI-Hackathon-SFD/.venv/lib/python3.11/site-packages/optuna/study/_optimize.py:196\u001b[0m, in \u001b[0;36m_run_trial\u001b[0;34m(study, func, catch)\u001b[0m\n\u001b[1;32m    194\u001b[0m \u001b[38;5;28;01mwith\u001b[39;00m get_heartbeat_thread(trial\u001b[38;5;241m.\u001b[39m_trial_id, study\u001b[38;5;241m.\u001b[39m_storage):\n\u001b[1;32m    195\u001b[0m     \u001b[38;5;28;01mtry\u001b[39;00m:\n\u001b[0;32m--> 196\u001b[0m         value_or_values \u001b[38;5;241m=\u001b[39m \u001b[43mfunc\u001b[49m\u001b[43m(\u001b[49m\u001b[43mtrial\u001b[49m\u001b[43m)\u001b[49m\n\u001b[1;32m    197\u001b[0m     \u001b[38;5;28;01mexcept\u001b[39;00m exceptions\u001b[38;5;241m.\u001b[39mTrialPruned \u001b[38;5;28;01mas\u001b[39;00m e:\n\u001b[1;32m    198\u001b[0m         \u001b[38;5;66;03m# TODO(mamu): Handle multi-objective cases.\u001b[39;00m\n\u001b[1;32m    199\u001b[0m         state \u001b[38;5;241m=\u001b[39m TrialState\u001b[38;5;241m.\u001b[39mPRUNED\n",
      "Cell \u001b[0;32mIn[83], line 79\u001b[0m, in \u001b[0;36mlgbm_objective\u001b[0;34m(trial)\u001b[0m\n\u001b[1;32m     72\u001b[0m clf \u001b[38;5;241m=\u001b[39m LGBMClassifier(\u001b[38;5;241m*\u001b[39m\u001b[38;5;241m*\u001b[39mparams, random_state\u001b[38;5;241m=\u001b[39mseed, verbosity\u001b[38;5;241m=\u001b[39m\u001b[38;5;241m-\u001b[39m\u001b[38;5;241m1\u001b[39m)\n\u001b[1;32m     74\u001b[0m X_train, X_test, y_train, y_test \u001b[38;5;241m=\u001b[39m train_test_split(X, y, \n\u001b[1;32m     75\u001b[0m                                                     test_size\u001b[38;5;241m=\u001b[39m\u001b[38;5;241m0.3\u001b[39m,\n\u001b[1;32m     76\u001b[0m                                                     shuffle\u001b[38;5;241m=\u001b[39m\u001b[38;5;28;01mTrue\u001b[39;00m,\n\u001b[1;32m     77\u001b[0m                                                     random_state\u001b[38;5;241m=\u001b[39mseed)\n\u001b[0;32m---> 79\u001b[0m \u001b[43mclf\u001b[49m\u001b[38;5;241;43m.\u001b[39;49m\u001b[43mfit\u001b[49m\u001b[43m(\u001b[49m\u001b[43mX_train\u001b[49m\u001b[43m,\u001b[49m\u001b[43m \u001b[49m\u001b[43my_train\u001b[49m\u001b[43m)\u001b[49m\n\u001b[1;32m     80\u001b[0m y_pred \u001b[38;5;241m=\u001b[39m clf\u001b[38;5;241m.\u001b[39mpredict(X_test)\n\u001b[1;32m     82\u001b[0m score \u001b[38;5;241m=\u001b[39m f1_score(y_test, y_pred)\n",
      "File \u001b[0;32m~/Documents/Python Projects/AI Hackathon 12.04.2024/AI-Hackathon-SFD/.venv/lib/python3.11/site-packages/lightgbm/sklearn.py:1187\u001b[0m, in \u001b[0;36mLGBMClassifier.fit\u001b[0;34m(self, X, y, sample_weight, init_score, eval_set, eval_names, eval_sample_weight, eval_class_weight, eval_init_score, eval_metric, feature_name, categorical_feature, callbacks, init_model)\u001b[0m\n\u001b[1;32m   1184\u001b[0m         \u001b[38;5;28;01melse\u001b[39;00m:\n\u001b[1;32m   1185\u001b[0m             valid_sets\u001b[38;5;241m.\u001b[39mappend((valid_x, \u001b[38;5;28mself\u001b[39m\u001b[38;5;241m.\u001b[39m_le\u001b[38;5;241m.\u001b[39mtransform(valid_y)))\n\u001b[0;32m-> 1187\u001b[0m \u001b[38;5;28;43msuper\u001b[39;49m\u001b[43m(\u001b[49m\u001b[43m)\u001b[49m\u001b[38;5;241;43m.\u001b[39;49m\u001b[43mfit\u001b[49m\u001b[43m(\u001b[49m\n\u001b[1;32m   1188\u001b[0m \u001b[43m    \u001b[49m\u001b[43mX\u001b[49m\u001b[43m,\u001b[49m\n\u001b[1;32m   1189\u001b[0m \u001b[43m    \u001b[49m\u001b[43m_y\u001b[49m\u001b[43m,\u001b[49m\n\u001b[1;32m   1190\u001b[0m \u001b[43m    \u001b[49m\u001b[43msample_weight\u001b[49m\u001b[38;5;241;43m=\u001b[39;49m\u001b[43msample_weight\u001b[49m\u001b[43m,\u001b[49m\n\u001b[1;32m   1191\u001b[0m \u001b[43m    \u001b[49m\u001b[43minit_score\u001b[49m\u001b[38;5;241;43m=\u001b[39;49m\u001b[43minit_score\u001b[49m\u001b[43m,\u001b[49m\n\u001b[1;32m   1192\u001b[0m \u001b[43m    \u001b[49m\u001b[43meval_set\u001b[49m\u001b[38;5;241;43m=\u001b[39;49m\u001b[43mvalid_sets\u001b[49m\u001b[43m,\u001b[49m\n\u001b[1;32m   1193\u001b[0m \u001b[43m    \u001b[49m\u001b[43meval_names\u001b[49m\u001b[38;5;241;43m=\u001b[39;49m\u001b[43meval_names\u001b[49m\u001b[43m,\u001b[49m\n\u001b[1;32m   1194\u001b[0m \u001b[43m    \u001b[49m\u001b[43meval_sample_weight\u001b[49m\u001b[38;5;241;43m=\u001b[39;49m\u001b[43meval_sample_weight\u001b[49m\u001b[43m,\u001b[49m\n\u001b[1;32m   1195\u001b[0m \u001b[43m    \u001b[49m\u001b[43meval_class_weight\u001b[49m\u001b[38;5;241;43m=\u001b[39;49m\u001b[43meval_class_weight\u001b[49m\u001b[43m,\u001b[49m\n\u001b[1;32m   1196\u001b[0m \u001b[43m    \u001b[49m\u001b[43meval_init_score\u001b[49m\u001b[38;5;241;43m=\u001b[39;49m\u001b[43meval_init_score\u001b[49m\u001b[43m,\u001b[49m\n\u001b[1;32m   1197\u001b[0m \u001b[43m    \u001b[49m\u001b[43meval_metric\u001b[49m\u001b[38;5;241;43m=\u001b[39;49m\u001b[43meval_metric\u001b[49m\u001b[43m,\u001b[49m\n\u001b[1;32m   1198\u001b[0m \u001b[43m    \u001b[49m\u001b[43mfeature_name\u001b[49m\u001b[38;5;241;43m=\u001b[39;49m\u001b[43mfeature_name\u001b[49m\u001b[43m,\u001b[49m\n\u001b[1;32m   1199\u001b[0m \u001b[43m    \u001b[49m\u001b[43mcategorical_feature\u001b[49m\u001b[38;5;241;43m=\u001b[39;49m\u001b[43mcategorical_feature\u001b[49m\u001b[43m,\u001b[49m\n\u001b[1;32m   1200\u001b[0m \u001b[43m    \u001b[49m\u001b[43mcallbacks\u001b[49m\u001b[38;5;241;43m=\u001b[39;49m\u001b[43mcallbacks\u001b[49m\u001b[43m,\u001b[49m\n\u001b[1;32m   1201\u001b[0m \u001b[43m    \u001b[49m\u001b[43minit_model\u001b[49m\u001b[38;5;241;43m=\u001b[39;49m\u001b[43minit_model\u001b[49m\n\u001b[1;32m   1202\u001b[0m \u001b[43m\u001b[49m\u001b[43m)\u001b[49m\n\u001b[1;32m   1203\u001b[0m \u001b[38;5;28;01mreturn\u001b[39;00m \u001b[38;5;28mself\u001b[39m\n",
      "File \u001b[0;32m~/Documents/Python Projects/AI Hackathon 12.04.2024/AI-Hackathon-SFD/.venv/lib/python3.11/site-packages/lightgbm/sklearn.py:885\u001b[0m, in \u001b[0;36mLGBMModel.fit\u001b[0;34m(self, X, y, sample_weight, init_score, group, eval_set, eval_names, eval_sample_weight, eval_class_weight, eval_init_score, eval_group, eval_metric, feature_name, categorical_feature, callbacks, init_model)\u001b[0m\n\u001b[1;32m    882\u001b[0m evals_result: _EvalResultDict \u001b[38;5;241m=\u001b[39m {}\n\u001b[1;32m    883\u001b[0m callbacks\u001b[38;5;241m.\u001b[39mappend(record_evaluation(evals_result))\n\u001b[0;32m--> 885\u001b[0m \u001b[38;5;28mself\u001b[39m\u001b[38;5;241m.\u001b[39m_Booster \u001b[38;5;241m=\u001b[39m \u001b[43mtrain\u001b[49m\u001b[43m(\u001b[49m\n\u001b[1;32m    886\u001b[0m \u001b[43m    \u001b[49m\u001b[43mparams\u001b[49m\u001b[38;5;241;43m=\u001b[39;49m\u001b[43mparams\u001b[49m\u001b[43m,\u001b[49m\n\u001b[1;32m    887\u001b[0m \u001b[43m    \u001b[49m\u001b[43mtrain_set\u001b[49m\u001b[38;5;241;43m=\u001b[39;49m\u001b[43mtrain_set\u001b[49m\u001b[43m,\u001b[49m\n\u001b[1;32m    888\u001b[0m \u001b[43m    \u001b[49m\u001b[43mnum_boost_round\u001b[49m\u001b[38;5;241;43m=\u001b[39;49m\u001b[38;5;28;43mself\u001b[39;49m\u001b[38;5;241;43m.\u001b[39;49m\u001b[43mn_estimators\u001b[49m\u001b[43m,\u001b[49m\n\u001b[1;32m    889\u001b[0m \u001b[43m    \u001b[49m\u001b[43mvalid_sets\u001b[49m\u001b[38;5;241;43m=\u001b[39;49m\u001b[43mvalid_sets\u001b[49m\u001b[43m,\u001b[49m\n\u001b[1;32m    890\u001b[0m \u001b[43m    \u001b[49m\u001b[43mvalid_names\u001b[49m\u001b[38;5;241;43m=\u001b[39;49m\u001b[43meval_names\u001b[49m\u001b[43m,\u001b[49m\n\u001b[1;32m    891\u001b[0m \u001b[43m    \u001b[49m\u001b[43mfeval\u001b[49m\u001b[38;5;241;43m=\u001b[39;49m\u001b[43meval_metrics_callable\u001b[49m\u001b[43m,\u001b[49m\u001b[43m  \u001b[49m\u001b[38;5;66;43;03m# type: ignore[arg-type]\u001b[39;49;00m\n\u001b[1;32m    892\u001b[0m \u001b[43m    \u001b[49m\u001b[43minit_model\u001b[49m\u001b[38;5;241;43m=\u001b[39;49m\u001b[43minit_model\u001b[49m\u001b[43m,\u001b[49m\n\u001b[1;32m    893\u001b[0m \u001b[43m    \u001b[49m\u001b[43mfeature_name\u001b[49m\u001b[38;5;241;43m=\u001b[39;49m\u001b[43mfeature_name\u001b[49m\u001b[43m,\u001b[49m\n\u001b[1;32m    894\u001b[0m \u001b[43m    \u001b[49m\u001b[43mcallbacks\u001b[49m\u001b[38;5;241;43m=\u001b[39;49m\u001b[43mcallbacks\u001b[49m\n\u001b[1;32m    895\u001b[0m \u001b[43m\u001b[49m\u001b[43m)\u001b[49m\n\u001b[1;32m    897\u001b[0m \u001b[38;5;28mself\u001b[39m\u001b[38;5;241m.\u001b[39m_evals_result \u001b[38;5;241m=\u001b[39m evals_result\n\u001b[1;32m    898\u001b[0m \u001b[38;5;28mself\u001b[39m\u001b[38;5;241m.\u001b[39m_best_iteration \u001b[38;5;241m=\u001b[39m \u001b[38;5;28mself\u001b[39m\u001b[38;5;241m.\u001b[39m_Booster\u001b[38;5;241m.\u001b[39mbest_iteration\n",
      "File \u001b[0;32m~/Documents/Python Projects/AI Hackathon 12.04.2024/AI-Hackathon-SFD/.venv/lib/python3.11/site-packages/lightgbm/engine.py:276\u001b[0m, in \u001b[0;36mtrain\u001b[0;34m(params, train_set, num_boost_round, valid_sets, valid_names, feval, init_model, feature_name, categorical_feature, keep_training_booster, callbacks)\u001b[0m\n\u001b[1;32m    268\u001b[0m \u001b[38;5;28;01mfor\u001b[39;00m cb \u001b[38;5;129;01min\u001b[39;00m callbacks_before_iter:\n\u001b[1;32m    269\u001b[0m     cb(callback\u001b[38;5;241m.\u001b[39mCallbackEnv(model\u001b[38;5;241m=\u001b[39mbooster,\n\u001b[1;32m    270\u001b[0m                             params\u001b[38;5;241m=\u001b[39mparams,\n\u001b[1;32m    271\u001b[0m                             iteration\u001b[38;5;241m=\u001b[39mi,\n\u001b[1;32m    272\u001b[0m                             begin_iteration\u001b[38;5;241m=\u001b[39minit_iteration,\n\u001b[1;32m    273\u001b[0m                             end_iteration\u001b[38;5;241m=\u001b[39minit_iteration \u001b[38;5;241m+\u001b[39m num_boost_round,\n\u001b[1;32m    274\u001b[0m                             evaluation_result_list\u001b[38;5;241m=\u001b[39m\u001b[38;5;28;01mNone\u001b[39;00m))\n\u001b[0;32m--> 276\u001b[0m \u001b[43mbooster\u001b[49m\u001b[38;5;241;43m.\u001b[39;49m\u001b[43mupdate\u001b[49m\u001b[43m(\u001b[49m\u001b[43mfobj\u001b[49m\u001b[38;5;241;43m=\u001b[39;49m\u001b[43mfobj\u001b[49m\u001b[43m)\u001b[49m\n\u001b[1;32m    278\u001b[0m evaluation_result_list: List[_LGBM_BoosterEvalMethodResultType] \u001b[38;5;241m=\u001b[39m []\n\u001b[1;32m    279\u001b[0m \u001b[38;5;66;03m# check evaluation result.\u001b[39;00m\n",
      "File \u001b[0;32m~/Documents/Python Projects/AI Hackathon 12.04.2024/AI-Hackathon-SFD/.venv/lib/python3.11/site-packages/lightgbm/basic.py:3891\u001b[0m, in \u001b[0;36mBooster.update\u001b[0;34m(self, train_set, fobj)\u001b[0m\n\u001b[1;32m   3889\u001b[0m \u001b[38;5;28;01mif\u001b[39;00m \u001b[38;5;28mself\u001b[39m\u001b[38;5;241m.\u001b[39m__set_objective_to_none:\n\u001b[1;32m   3890\u001b[0m     \u001b[38;5;28;01mraise\u001b[39;00m LightGBMError(\u001b[38;5;124m'\u001b[39m\u001b[38;5;124mCannot update due to null objective function.\u001b[39m\u001b[38;5;124m'\u001b[39m)\n\u001b[0;32m-> 3891\u001b[0m _safe_call(\u001b[43m_LIB\u001b[49m\u001b[38;5;241;43m.\u001b[39;49m\u001b[43mLGBM_BoosterUpdateOneIter\u001b[49m\u001b[43m(\u001b[49m\n\u001b[1;32m   3892\u001b[0m \u001b[43m    \u001b[49m\u001b[38;5;28;43mself\u001b[39;49m\u001b[38;5;241;43m.\u001b[39;49m\u001b[43m_handle\u001b[49m\u001b[43m,\u001b[49m\n\u001b[1;32m   3893\u001b[0m \u001b[43m    \u001b[49m\u001b[43mctypes\u001b[49m\u001b[38;5;241;43m.\u001b[39;49m\u001b[43mbyref\u001b[49m\u001b[43m(\u001b[49m\u001b[43mis_finished\u001b[49m\u001b[43m)\u001b[49m\u001b[43m)\u001b[49m)\n\u001b[1;32m   3894\u001b[0m \u001b[38;5;28mself\u001b[39m\u001b[38;5;241m.\u001b[39m__is_predicted_cur_iter \u001b[38;5;241m=\u001b[39m [\u001b[38;5;28;01mFalse\u001b[39;00m \u001b[38;5;28;01mfor\u001b[39;00m _ \u001b[38;5;129;01min\u001b[39;00m \u001b[38;5;28mrange\u001b[39m(\u001b[38;5;28mself\u001b[39m\u001b[38;5;241m.\u001b[39m__num_dataset)]\n\u001b[1;32m   3895\u001b[0m \u001b[38;5;28;01mreturn\u001b[39;00m is_finished\u001b[38;5;241m.\u001b[39mvalue \u001b[38;5;241m==\u001b[39m \u001b[38;5;241m1\u001b[39m\n",
      "\u001b[0;31mKeyboardInterrupt\u001b[0m: "
     ]
    }
   ],
   "source": [
    "ga_sampler = optuna.samplers.NSGAIISampler(\n",
    "    population_size=50,\n",
    "    mutation_prob=0.14,\n",
    "    crossover=optuna.samplers.nsgaii.VSBXCrossover()\n",
    ")\n",
    "\n",
    "\n",
    "studies: list[optuna.Study] = [None] * len(objectives)\n",
    "for i, (name, objective) in enumerate(objectives):\n",
    "    studies[i] = optuna.create_study(study_name=name, direction='maximize', sampler=ga_sampler)\n",
    "    studies[i].optimize(objective, n_trials=150)"
   ]
  },
  {
   "cell_type": "code",
   "execution_count": 64,
   "metadata": {},
   "outputs": [
    {
     "ename": "ValueError",
     "evalue": "No trials are completed yet.",
     "output_type": "error",
     "traceback": [
      "\u001b[0;31m---------------------------------------------------------------------------\u001b[0m",
      "\u001b[0;31mValueError\u001b[0m                                Traceback (most recent call last)",
      "Cell \u001b[0;32mIn[64], line 2\u001b[0m\n\u001b[1;32m      1\u001b[0m \u001b[38;5;28;01mfor\u001b[39;00m study \u001b[38;5;129;01min\u001b[39;00m studies:\n\u001b[0;32m----> 2\u001b[0m     display(\u001b[43mstudy\u001b[49m\u001b[38;5;241;43m.\u001b[39;49m\u001b[43mbest_params\u001b[49m)\n",
      "File \u001b[0;32m~/Documents/Python Projects/AI Hackathon 12.04.2024/AI-Hackathon-SFD/.venv/lib/python3.11/site-packages/optuna/study/study.py:114\u001b[0m, in \u001b[0;36mStudy.best_params\u001b[0;34m(self)\u001b[0m\n\u001b[1;32m    102\u001b[0m \u001b[38;5;129m@property\u001b[39m\n\u001b[1;32m    103\u001b[0m \u001b[38;5;28;01mdef\u001b[39;00m \u001b[38;5;21mbest_params\u001b[39m(\u001b[38;5;28mself\u001b[39m) \u001b[38;5;241m-\u001b[39m\u001b[38;5;241m>\u001b[39m \u001b[38;5;28mdict\u001b[39m[\u001b[38;5;28mstr\u001b[39m, Any]:\n\u001b[1;32m    104\u001b[0m \u001b[38;5;250m    \u001b[39m\u001b[38;5;124;03m\"\"\"Return parameters of the best trial in the study.\u001b[39;00m\n\u001b[1;32m    105\u001b[0m \n\u001b[1;32m    106\u001b[0m \u001b[38;5;124;03m    .. note::\u001b[39;00m\n\u001b[0;32m   (...)\u001b[0m\n\u001b[1;32m    111\u001b[0m \n\u001b[1;32m    112\u001b[0m \u001b[38;5;124;03m    \"\"\"\u001b[39;00m\n\u001b[0;32m--> 114\u001b[0m     \u001b[38;5;28;01mreturn\u001b[39;00m \u001b[38;5;28;43mself\u001b[39;49m\u001b[38;5;241;43m.\u001b[39;49m\u001b[43mbest_trial\u001b[49m\u001b[38;5;241m.\u001b[39mparams\n",
      "File \u001b[0;32m~/Documents/Python Projects/AI Hackathon 12.04.2024/AI-Hackathon-SFD/.venv/lib/python3.11/site-packages/optuna/study/study.py:157\u001b[0m, in \u001b[0;36mStudy.best_trial\u001b[0;34m(self)\u001b[0m\n\u001b[1;32m    151\u001b[0m \u001b[38;5;28;01mif\u001b[39;00m \u001b[38;5;28mself\u001b[39m\u001b[38;5;241m.\u001b[39m_is_multi_objective():\n\u001b[1;32m    152\u001b[0m     \u001b[38;5;28;01mraise\u001b[39;00m \u001b[38;5;167;01mRuntimeError\u001b[39;00m(\n\u001b[1;32m    153\u001b[0m         \u001b[38;5;124m\"\u001b[39m\u001b[38;5;124mA single best trial cannot be retrieved from a multi-objective study. Consider \u001b[39m\u001b[38;5;124m\"\u001b[39m\n\u001b[1;32m    154\u001b[0m         \u001b[38;5;124m\"\u001b[39m\u001b[38;5;124musing Study.best_trials to retrieve a list containing the best trials.\u001b[39m\u001b[38;5;124m\"\u001b[39m\n\u001b[1;32m    155\u001b[0m     )\n\u001b[0;32m--> 157\u001b[0m \u001b[38;5;28;01mreturn\u001b[39;00m copy\u001b[38;5;241m.\u001b[39mdeepcopy(\u001b[38;5;28;43mself\u001b[39;49m\u001b[38;5;241;43m.\u001b[39;49m\u001b[43m_storage\u001b[49m\u001b[38;5;241;43m.\u001b[39;49m\u001b[43mget_best_trial\u001b[49m\u001b[43m(\u001b[49m\u001b[38;5;28;43mself\u001b[39;49m\u001b[38;5;241;43m.\u001b[39;49m\u001b[43m_study_id\u001b[49m\u001b[43m)\u001b[49m)\n",
      "File \u001b[0;32m~/Documents/Python Projects/AI Hackathon 12.04.2024/AI-Hackathon-SFD/.venv/lib/python3.11/site-packages/optuna/storages/_in_memory.py:234\u001b[0m, in \u001b[0;36mInMemoryStorage.get_best_trial\u001b[0;34m(self, study_id)\u001b[0m\n\u001b[1;32m    231\u001b[0m best_trial_id \u001b[38;5;241m=\u001b[39m \u001b[38;5;28mself\u001b[39m\u001b[38;5;241m.\u001b[39m_studies[study_id]\u001b[38;5;241m.\u001b[39mbest_trial_id\n\u001b[1;32m    233\u001b[0m \u001b[38;5;28;01mif\u001b[39;00m best_trial_id \u001b[38;5;129;01mis\u001b[39;00m \u001b[38;5;28;01mNone\u001b[39;00m:\n\u001b[0;32m--> 234\u001b[0m     \u001b[38;5;28;01mraise\u001b[39;00m \u001b[38;5;167;01mValueError\u001b[39;00m(\u001b[38;5;124m\"\u001b[39m\u001b[38;5;124mNo trials are completed yet.\u001b[39m\u001b[38;5;124m\"\u001b[39m)\n\u001b[1;32m    235\u001b[0m \u001b[38;5;28;01melif\u001b[39;00m \u001b[38;5;28mlen\u001b[39m(\u001b[38;5;28mself\u001b[39m\u001b[38;5;241m.\u001b[39m_studies[study_id]\u001b[38;5;241m.\u001b[39mdirections) \u001b[38;5;241m>\u001b[39m \u001b[38;5;241m1\u001b[39m:\n\u001b[1;32m    236\u001b[0m     \u001b[38;5;28;01mraise\u001b[39;00m \u001b[38;5;167;01mRuntimeError\u001b[39;00m(\n\u001b[1;32m    237\u001b[0m         \u001b[38;5;124m\"\u001b[39m\u001b[38;5;124mBest trial can be obtained only for single-objective optimization.\u001b[39m\u001b[38;5;124m\"\u001b[39m\n\u001b[1;32m    238\u001b[0m     )\n",
      "\u001b[0;31mValueError\u001b[0m: No trials are completed yet."
     ]
    }
   ],
   "source": [
    "for study in studies:\n",
    "    display(study.best_params)"
   ]
  }
 ],
 "metadata": {
  "kernelspec": {
   "display_name": ".venv",
   "language": "python",
   "name": "python3"
  },
  "language_info": {
   "codemirror_mode": {
    "name": "ipython",
    "version": 3
   },
   "file_extension": ".py",
   "mimetype": "text/x-python",
   "name": "python",
   "nbconvert_exporter": "python",
   "pygments_lexer": "ipython3",
   "version": "3.12.1"
  }
 },
 "nbformat": 4,
 "nbformat_minor": 2
}
